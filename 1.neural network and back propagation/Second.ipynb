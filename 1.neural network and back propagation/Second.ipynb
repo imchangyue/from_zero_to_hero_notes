{
 "cells": [
  {
   "cell_type": "code",
   "execution_count": null,
   "id": "c3ef0f02-4b42-4e76-8f97-b410e4fcdd4e",
   "metadata": {},
   "outputs": [],
   "source": [
    "import math\n",
    "import numpy as np\n",
    "import matplotlib.pyplot as plt\n",
    "%matplotlib inline"
   ]
  },
  {
   "cell_type": "code",
   "execution_count": null,
   "id": "fb5221e6-961c-4715-90e1-4d600a00d2b5",
   "metadata": {},
   "outputs": [],
   "source": [
    "class Value:\n",
    "    def __init__(self, value, _children = (), _op = ''):\n",
    "        self.value = value\n",
    "        self._prev = _children\n",
    "        self._op = _op\n",
    "        self.grad = 0.0\n",
    "        self._backward = lambda : None\n",
    "    def __mul__(self, other):\n",
    "        other = other if isinstance(other,Value) else Value(other)\n",
    "        out = Value(other.data * self.data,(self, other))\n",
    "        def _backward():\n",
    "            self.grad = other.data * out.grad\n",
    "            other.grad = self.data * out.grad\n",
    "        out._backward() = _backward\n",
    "        return out\n",
    "    def __add__(self, other):\n",
    "        other = other if isinstance(other,Value) else Value(other)\n",
    "        out = Value(other,data + self.data,(self, other))\n",
    "        def _backward():\n",
    "            self.grad = out.grad\n",
    "            other.grad = out.grad\n",
    "        out._backward() = _backward\n",
    "    def __neg__(self):\n",
    "        return self * -1\n",
    "    def __pow__(self,)"
   ]
  }
 ],
 "metadata": {
  "kernelspec": {
   "display_name": "Python 3 (ipykernel)",
   "language": "python",
   "name": "python3"
  },
  "language_info": {
   "codemirror_mode": {
    "name": "ipython",
    "version": 3
   },
   "file_extension": ".py",
   "mimetype": "text/x-python",
   "name": "python",
   "nbconvert_exporter": "python",
   "pygments_lexer": "ipython3",
   "version": "3.12.4"
  }
 },
 "nbformat": 4,
 "nbformat_minor": 5
}
