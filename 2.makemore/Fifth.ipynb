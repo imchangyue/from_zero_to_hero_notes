{
 "cells": [
  {
   "cell_type": "code",
   "execution_count": 26,
   "id": "28384b04-9680-4e9b-b8ee-644bb5c95dd9",
   "metadata": {},
   "outputs": [],
   "source": [
    "import torch\n",
    "import torch.nn.functional as F\n",
    "import matplotlib.pyplot as plt\n",
    "%matplotlib inline"
   ]
  },
  {
   "cell_type": "code",
   "execution_count": 28,
   "id": "1144bd7f-b5bf-454c-b975-c215e87052e4",
   "metadata": {},
   "outputs": [],
   "source": [
    "words = open('karpathy/makemore/names.txt', 'r').read().splitlines()"
   ]
  },
  {
   "cell_type": "code",
   "execution_count": 30,
   "id": "1748a6ce-d83e-446c-a6b1-ae5707403bf8",
   "metadata": {},
   "outputs": [
    {
     "name": "stdout",
     "output_type": "stream",
     "text": [
      "27\n"
     ]
    }
   ],
   "source": [
    "#build the vocabulary of hcaracters and mappings\n",
    "chars = sorted(list(set(''.join(words))))\n",
    "stoi = {s:i+1 for i,s in enumerate(chars)}\n",
    "stoi['.'] = 0\n",
    "itos = {s:i for i,s in stoi.items()}\n",
    "vocab_size = len(itos)\n",
    "print(vocab_size)"
   ]
  },
  {
   "cell_type": "code",
   "execution_count": 32,
   "id": "b90619ee-1771-48cd-9189-494330ef289e",
   "metadata": {},
   "outputs": [
    {
     "name": "stdout",
     "output_type": "stream",
     "text": [
      "torch.Size([182580, 3]) torch.Size([182580])\n",
      "torch.Size([22767, 3]) torch.Size([22767])\n",
      "torch.Size([22799, 3]) torch.Size([22799])\n"
     ]
    }
   ],
   "source": [
    "block_size = 3\n",
    "def build_dataset(words):\n",
    "    X,Y = [],[]\n",
    "    \n",
    "    for w in words:\n",
    "        context = [0] * block_size\n",
    "        for ch in w + '.':\n",
    "            ix = stoi[ch]\n",
    "            X.append(context)\n",
    "            Y.append(ix)\n",
    "            context = context[1:] + [ix]  #crop and append\n",
    "    X = torch.tensor(X)\n",
    "    Y = torch.tensor(Y)\n",
    "    print(X.shape, Y.shape)\n",
    "    return X,Y\n",
    "\n",
    "import random\n",
    "random.seed(42)\n",
    "random.shuffle(words)\n",
    "n1 = int(0.8*len(words))\n",
    "n2 = int(0.9*len(words))\n",
    "            \n",
    "Xtr, Ytr = build_dataset(words[:n1])    \n",
    "Xdev, Ydev = build_dataset(words[n1:n2])\n",
    "Xte, Yte = build_dataset(words[n2:])\n"
   ]
  },
  {
   "cell_type": "code",
   "execution_count": 34,
   "id": "382fa510-4d70-449a-a589-8cf93c8c3b37",
   "metadata": {},
   "outputs": [
    {
     "name": "stdout",
     "output_type": "stream",
     "text": [
      "12097\n"
     ]
    }
   ],
   "source": [
    "#let's train a deeper network\n",
    "#模仿pytorch的方法构建模型：\n",
    "class linear:\n",
    "    def __init__(self,fan_in,fan_out,bias = True):\n",
    "        self.weight = torch.randn((fan_in, fan_out), generator=g) / fan_in ** 0.5\n",
    "        self.bias = torch.zeros(fan_out) if bias else None\n",
    "    def __call__(self, x):\n",
    "        self.out = x @ self.weight\n",
    "        if self.bias is not None:\n",
    "            self.out += self.bias\n",
    "        return self.out\n",
    "    def parameters(self):\n",
    "        return [self.weight] + ([] if self.bias is None else [self.bias])\n",
    "    \n",
    "class BatchNorm1d:\n",
    "    def __init__(self,dim,eps = 1e-5,momentum = 0.1):\n",
    "        self.eps = eps\n",
    "        self.momentum = momentum\n",
    "        self.training = True\n",
    "#self.training 控制着 BatchNorm1d 层的工作模式。当 self.training 为 True 时，表示处于训练模式，\n",
    "#会根据当前输入 x 计算均值和方差，并更新 running_mean 和 running_var。\n",
    "#而当 self.training 为 False 时，表示处于推理或测试模式，使用之前计算好的 running_mean 和 running_var 来进行标准化。\n",
    "        #parameters\n",
    "        self.gamma = torch.zeros(dim)\n",
    "        self.beta = torch.ones(dim)\n",
    "        #buffers\n",
    "        self.running_mean = torch.zeros(dim)\n",
    "        self.running_var = torch.ones(dim)\n",
    "        \n",
    "    def __call__(self,x):\n",
    "        #calculate the forward pass\n",
    "        if self.training:\n",
    "            xmean = x.mean(0,keepdim = True)\n",
    "            xvar = x.var(0,keepdim = True)\n",
    "        else:\n",
    "            xmean = self.running_mean\n",
    "            xvar = self.running_var\n",
    "        xhat = (x - xmean) / torch.sqrt(xvar + self.eps)\n",
    "#xhat 是标准化后的输入数据，通过将 x 减去均值 xmean 并除以标准差的平方根（加上一个很小的值 eps 防止除以零）得到。\n",
    "        self.out = self.gamma *xhat + self.beta\n",
    "        if self.training:\n",
    "            with torch.no_grad():\n",
    "                self.running_mean = (1- self.momentum) * self.running_mean + self.momentum * xmean\n",
    "                self.running_var = (1 - self.momentum) * self.running_var + self.momentum * xvar\n",
    "        return self.out\n",
    "    def parameters(self):\n",
    "        return [self.gamma, self.beta]\n",
    "    \n",
    "class Tanh:\n",
    "    def __call__(self, x):\n",
    "        self.out = torch.tanh(x)\n",
    "        return self.out\n",
    "    def parameters(self):\n",
    "        return []\n",
    "#新增操作：代替原来的emb = C[X]\n",
    "class Embedding:\n",
    "    def __init__(self,num_embeddings,embedding_dim):\n",
    "        self.weight = torch,randn((num_embeddings,embedding_dim))\n",
    "    def __call__(self,IX):\n",
    "        self.out = self.weight[IX]\n",
    "        return self.out\n",
    "    def parameters(self):\n",
    "        return [self.weight]\n",
    "#新增操作代替原来的x = emb.view(emb.shape[0],-1)\n",
    "class Flatten:\n",
    "    def __call__(self,x):\n",
    "        self.out = x.view(x.shape[0],-1)\n",
    "        return self.out\n",
    "    def parameters(self):\n",
    "        return []\n",
    "\n",
    "n_embd = 10\n",
    "n_hidden =200 # the number of neurons in the hidden layer of MLP\n",
    "g = torch.Generator().manual_seed(2147483647)\n",
    "C = torch.randn((vocab_size,n_embd))\n",
    "layers = [  #使用六层多层感知机\n",
    "    Embedding(vocab_size,n_embd),\n",
    "    Flatten(),\n",
    "    linear(n_embd * block_size, n_hidden, bias = False),BatchNorm1d(n_hidden), Tanh(),\n",
    "    linear(n_hidden, vocab_size)\n",
    "]  #如果线性层之间不用tanh()层连接的话，那么许多线性层叠加之后就会产生一个线性层的效果\n",
    "\n",
    "with torch.no_grad():  #这段代码的含义见下图\n",
    "    #last layer: make less confident\n",
    "    layers[-1].weight *=0.1\n",
    "parameters = [C] + [p for layer in layers for p in layer.parameters()]\n",
    "print(sum(p.nelement() for p in parameters))\n",
    "for p in parameters:\n",
    "    p.requires_grad = True    "
   ]
  },
  {
   "cell_type": "code",
   "execution_count": 36,
   "id": "a7705c87-0c92-4e8d-964c-c6372ae4af4c",
   "metadata": {},
   "outputs": [
    {
     "name": "stdout",
     "output_type": "stream",
     "text": [
      "      0/ 200000:3.2742\n",
      "  10000/ 200000:2.2367\n",
      "  20000/ 200000:2.1368\n",
      "  30000/ 200000:2.1694\n",
      "  40000/ 200000:2.2415\n",
      "  50000/ 200000:2.0394\n",
      "  60000/ 200000:2.7240\n",
      "  70000/ 200000:2.3194\n",
      "  80000/ 200000:2.3140\n",
      "  90000/ 200000:2.0710\n",
      " 100000/ 200000:2.2668\n",
      " 110000/ 200000:2.3410\n",
      " 120000/ 200000:1.9761\n",
      " 130000/ 200000:2.0599\n",
      " 140000/ 200000:2.4630\n",
      " 150000/ 200000:1.9083\n",
      " 160000/ 200000:2.0631\n",
      " 170000/ 200000:1.9033\n",
      " 180000/ 200000:2.4144\n",
      " 190000/ 200000:2.2185\n"
     ]
    }
   ],
   "source": [
    "max_steps = 200000\n",
    "batch_size = 32\n",
    "lossi = []\n",
    "ud = []\n",
    "stepi = []\n",
    "for i in range(max_steps):\n",
    "    ix = torch.randint(0, Xtr.shape[0], (batch_size,), generator=g)\n",
    "    Xb, Yb = Xtr[ix], Ytr[ix]  # batch\n",
    "\n",
    "    # forward pass\n",
    "    emb = C[Xb]\n",
    "    x = emb.view(emb.shape[0], -1)\n",
    "    for layer in layers:\n",
    "        x = layer(x)\n",
    "    loss = F.cross_entropy(x, Yb)  # loss function\n",
    "\n",
    "    # backward pass\n",
    "    for p in parameters:\n",
    "        p.grad = None\n",
    "    loss.backward()\n",
    "\n",
    "    # update\n",
    "    lr = 0.1 if i < 150000 else 0.01\n",
    "    for p in parameters:\n",
    "        p.data -= lr * p.grad\n",
    "\n",
    "    # track stats\n",
    "    if i % 10000 == 0:\n",
    "        print(f'{i:7d}/{max_steps:7d}:{loss.item():.4f}')\n",
    "        lossi.append(loss.log10().item())\n",
    "        stepi.append(i)\n",
    "    with torch.no_grad():\n",
    "        ud.append([(lr * p.grad.std() / p.data.std()).log().item() for p in parameters])"
   ]
  },
  {
   "cell_type": "code",
   "execution_count": 38,
   "id": "d92940f3-4237-4e23-9f4a-0f918e46ef15",
   "metadata": {},
   "outputs": [
    {
     "data": {
      "text/plain": [
       "[<matplotlib.lines.Line2D at 0x27c039b17c0>]"
      ]
     },
     "execution_count": 38,
     "metadata": {},
     "output_type": "execute_result"
    },
    {
     "data": {
      "image/png": "[encoded data removed]",
      "text/plain": [
       "<Figure size 640x480 with 1 Axes>"
      ]
     },
     "metadata": {},
     "output_type": "display_data"
    }
   ],
   "source": [
    "plt.plot(lossi)"
   ]
  },
  {
   "cell_type": "code",
   "execution_count": 40,
   "id": "552ad7f4-99d6-4e21-a917-4a3608e224ad",
   "metadata": {},
   "outputs": [
    {
     "ename": "RuntimeError",
     "evalue": "shape '[-1, 1000]' is invalid for input of size 20",
     "output_type": "error",
     "traceback": [
      "\u001b[1;31m---------------------------------------------------------------------------\u001b[0m",
      "\u001b[1;31mRuntimeError\u001b[0m                              Traceback (most recent call last)",
      "Cell \u001b[1;32mIn[40], line 1\u001b[0m\n\u001b[1;32m----> 1\u001b[0m plt\u001b[38;5;241m.\u001b[39mplot(\u001b[43mtorch\u001b[49m\u001b[38;5;241;43m.\u001b[39;49m\u001b[43mtensor\u001b[49m\u001b[43m(\u001b[49m\u001b[43mlossi\u001b[49m\u001b[43m)\u001b[49m\u001b[38;5;241;43m.\u001b[39;49m\u001b[43mview\u001b[49m\u001b[43m(\u001b[49m\u001b[38;5;241;43m-\u001b[39;49m\u001b[38;5;241;43m1\u001b[39;49m\u001b[43m,\u001b[49m\u001b[38;5;241;43m1000\u001b[39;49m\u001b[43m)\u001b[49m\u001b[38;5;241m.\u001b[39mmean(\u001b[38;5;241m1\u001b[39m))\n",
      "\u001b[1;31mRuntimeError\u001b[0m: shape '[-1, 1000]' is invalid for input of size 20"
     ]
    }
   ],
   "source": [
    "plt.plot(torch.tensor(lossi).view(-1,1000).mean(1))"
   ]
  },
  {
   "cell_type": "code",
   "execution_count": null,
   "id": "2e8396a9-9d1f-401b-8e9b-664cf0e9bded",
   "metadata": {},
   "outputs": [],
   "source": [
    "for layer in layers:\n",
    "    layer.training = False"
   ]
  },
  {
   "cell_type": "code",
   "execution_count": null,
   "id": "508787e1-ba99-426b-839c-39a38ae0a434",
   "metadata": {},
   "outputs": [],
   "source": [
    "@torch.no_grad()  #让下面这个函数执行的所有变量都无grad也就是no_grad,从而不能进行反向传播\n",
    "#adecorator disables gradient tracking\n",
    "def split_loss(split):\n",
    "    x,y = {\n",
    "        'train':(Xtr,Ytr),\n",
    "        'val':(Xdev,Ydev),\n",
    "        'test':(Xte,Yte)\n",
    "    }[split]\n",
    "    emb = C[x]\n",
    "    x = emb.view(emb.shape[0],-1)\n",
    "    for layer in layers:\n",
    "        x = layer(x)\n",
    "    loss = F.cross_entropy(x, y)  #loss function\n",
    "    print(split,loss.item())\n",
    "split_loss('train')\n",
    "split_loss('val')"
   ]
  },
  {
   "cell_type": "code",
   "execution_count": null,
   "id": "329f0faa-f299-44d5-af2f-70b22b6fc481",
   "metadata": {},
   "outputs": [],
   "source": [
    "# sample from the model \n",
    "g = torch.Generator().manual_seed(2147483647)\n",
    "for i in range(20):\n",
    "    out = []\n",
    "    context = [0] * block_size\n",
    "    while True:\n",
    "        emb = C[torch.tensor([context])]\n",
    "        h = torch.tanh(emb.view(1,-1) @ W1)  #，view(1, -1)是将emb的维度调整为1行，剩下的维度自动计算得出。\n",
    "        logits = h @ W2 + b2 #最终输出 logits\n",
    "        probs = F.softmax(logits,dim=1)\n",
    "        ix = torch.multinomial(p, num_samples = 1, generator = g).item()\n",
    "        context = context[1:] + [ix]\n",
    "        out.append(ix)\n",
    "        if ix == 0:\n",
    "            break\n",
    "    print(''.join(itos[i] for i in out))"
   ]
  }
 ],
 "metadata": {
  "kernelspec": {
   "display_name": "Python 3 (ipykernel)",
   "language": "python",
   "name": "python3"
  },
  "language_info": {
   "codemirror_mode": {
    "name": "ipython",
    "version": 3
   },
   "file_extension": ".py",
   "mimetype": "text/x-python",
   "name": "python",
   "nbconvert_exporter": "python",
   "pygments_lexer": "ipython3",
   "version": "3.12.4"
  }
 },
 "nbformat": 4,
 "nbformat_minor": 5
}
