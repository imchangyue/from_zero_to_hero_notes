{
 "cells": [
  {
   "cell_type": "code",
   "execution_count": 1,
   "id": "dbaa2a49-42a1-46c7-b952-dd38d85e5d7a",
   "metadata": {},
   "outputs": [],
   "source": [
    "import torch\n",
    "import torch.nn.functional as F\n",
    "import matplotlib.pyplot as plt\n",
    "%matplotlib inline"
   ]
  },
  {
   "cell_type": "code",
   "execution_count": 2,
   "id": "598b5da1-e378-4449-ae27-129a207c8c0a",
   "metadata": {},
   "outputs": [
    {
     "data": {
      "text/plain": [
       "['emma', 'olivia', 'ava', 'isabella', 'sophia', 'charlotte', 'mia', 'amelia']"
      ]
     },
     "execution_count": 2,
     "metadata": {},
     "output_type": "execute_result"
    }
   ],
   "source": [
    "words = open('karpathy/makemore/names.txt','r').read().splitlines()\n",
    "words[:8]"
   ]
  },
  {
   "cell_type": "code",
   "execution_count": 3,
   "id": "7f6d65c7-9bf8-4ab5-8bb1-6c82cc9a2840",
   "metadata": {},
   "outputs": [
    {
     "data": {
      "text/plain": [
       "32033"
      ]
     },
     "execution_count": 3,
     "metadata": {},
     "output_type": "execute_result"
    }
   ],
   "source": [
    "len(words)"
   ]
  },
  {
   "cell_type": "code",
   "execution_count": 4,
   "id": "76adf20f-e683-4b7b-be70-af71f891e0f9",
   "metadata": {},
   "outputs": [],
   "source": [
    "chars = sorted(list(set(''.join(words))))\n",
    "stoi = {s:i+1 for i,s in enumerate(chars)}\n",
    "stoi['.'] = 0\n",
    "itos = {i:s for s,i in stoi.items()}\n",
    "#建立映射"
   ]
  },
  {
   "cell_type": "code",
   "execution_count": 8,
   "id": "55cce276-c5ad-4a0c-81b4-5bb6396327f0",
   "metadata": {
    "tags": []
   },
   "outputs": [
    {
     "name": "stdout",
     "output_type": "stream",
     "text": [
      "emma\n",
      "... ---> e\n",
      "..e ---> m\n",
      ".em ---> m\n",
      "emm ---> a\n",
      "mma ---> .\n",
      "olivia\n",
      "... ---> o\n",
      "..o ---> l\n",
      ".ol ---> i\n",
      "oli ---> v\n",
      "liv ---> i\n",
      "ivi ---> a\n",
      "via ---> .\n",
      "ava\n",
      "... ---> a\n",
      "..a ---> v\n",
      ".av ---> a\n",
      "ava ---> .\n",
      "isabella\n",
      "... ---> i\n",
      "..i ---> s\n",
      ".is ---> a\n",
      "isa ---> b\n",
      "sab ---> e\n",
      "abe ---> l\n",
      "bel ---> l\n",
      "ell ---> a\n",
      "lla ---> .\n",
      "sophia\n",
      "... ---> s\n",
      "..s ---> o\n",
      ".so ---> p\n",
      "sop ---> h\n",
      "oph ---> i\n",
      "phi ---> a\n",
      "hia ---> .\n"
     ]
    }
   ],
   "source": [
    "#build the dataset\n",
    "\n",
    "block_size = 3 #context length: how many characters do we take to predict the next one\n",
    "X,Y = [],[]  #x:INPUTS;y:LABLES\n",
    "for w in words[:5]:\n",
    "    print(w)\n",
    "    context = [0]*block_size  #初始化一个长度为block_size的全零列表作为初始上下文\n",
    "    for ch in w + '.':\n",
    "        ix = stoi[ch]\n",
    "        X.append(context)\n",
    "        Y.append(ix)\n",
    "        print(''.join(itos[i] for i in context), '--->', itos[ix])\n",
    "        context = context[1:] + [ix]  #crop and append\n",
    "        #这行代码更新上下文：它去掉最旧的字符（即列表的第一个元素）并添加当前字符的新索引。这使得上下文始终包含最新的3个字符。\n",
    "X = torch.tensor(X)\n",
    "Y = torch.tensor(Y)"
   ]
  },
  {
   "cell_type": "code",
   "execution_count": 9,
   "id": "5ac1725d-021c-4d53-a5f3-66a3b0d518b9",
   "metadata": {},
   "outputs": [
    {
     "data": {
      "text/plain": [
       "(torch.Size([32, 3]), torch.int64, torch.Size([32]), torch.int64)"
      ]
     },
     "execution_count": 9,
     "metadata": {},
     "output_type": "execute_result"
    }
   ],
   "source": [
    "X.shape,X.dtype,Y.shape,Y.dtype"
   ]
  },
  {
   "cell_type": "code",
   "execution_count": 162,
   "id": "d6327c44-3ac9-4ddb-b61d-41d8aeac048e",
   "metadata": {},
   "outputs": [
    {
     "data": {
      "text/plain": [
       "tensor([[ 0,  0,  0],\n",
       "        [ 0,  0,  5],\n",
       "        [ 0,  5, 13],\n",
       "        ...,\n",
       "        [26, 26, 25],\n",
       "        [26, 25, 26],\n",
       "        [25, 26, 24]])"
      ]
     },
     "execution_count": 162,
     "metadata": {},
     "output_type": "execute_result"
    }
   ],
   "source": [
    "X"
   ]
  },
  {
   "cell_type": "code",
   "execution_count": 10,
   "id": "2e84572c-1901-4c5f-b651-8c3a3a7eed85",
   "metadata": {},
   "outputs": [
    {
     "data": {
      "text/plain": [
       "tensor([ 5, 13, 13,  1,  0, 15, 12,  9, 22,  9,  1,  0,  1, 22,  1,  0,  9, 19,\n",
       "         1,  2,  5, 12, 12,  1,  0, 19, 15, 16,  8,  9,  1,  0])"
      ]
     },
     "execution_count": 10,
     "metadata": {},
     "output_type": "execute_result"
    }
   ],
   "source": [
    "Y"
   ]
  },
  {
   "cell_type": "code",
   "execution_count": 11,
   "id": "dccc67d8-21c7-4ad9-877b-5c7f9fa7a00d",
   "metadata": {},
   "outputs": [],
   "source": [
    "C = torch.randn((27,2))"
   ]
  },
  {
   "cell_type": "code",
   "execution_count": 13,
   "id": "01f5bac2-94dc-4013-a529-6e7c993709ea",
   "metadata": {
    "scrolled": true
   },
   "outputs": [
    {
     "data": {
      "text/plain": [
       "tensor([[-0.3677, -0.5266],\n",
       "        [-0.1383,  0.3885],\n",
       "        [ 0.5977,  1.4086],\n",
       "        [-1.2877, -0.5404],\n",
       "        [-0.5583,  0.2404],\n",
       "        [-0.3566, -0.4755],\n",
       "        [ 0.0512, -1.5590],\n",
       "        [-0.9190, -0.3630],\n",
       "        [-0.3558,  1.2853],\n",
       "        [ 0.6355, -0.1595],\n",
       "        [ 2.5488, -0.0401],\n",
       "        [ 0.9799,  1.8392],\n",
       "        [-1.1929,  2.4961],\n",
       "        [-0.9382,  0.2738],\n",
       "        [ 0.1845, -0.5209],\n",
       "        [ 0.2685,  2.2692],\n",
       "        [ 0.4356, -0.3778],\n",
       "        [ 0.7269, -2.0440],\n",
       "        [-0.0207, -1.8088],\n",
       "        [-0.2084,  0.9846],\n",
       "        [-1.1529,  1.1532],\n",
       "        [-0.7714,  1.7447],\n",
       "        [ 1.1283, -0.0508],\n",
       "        [ 0.3044,  0.5911],\n",
       "        [ 0.2873, -0.3771],\n",
       "        [-0.7657, -0.2061],\n",
       "        [-0.3297, -1.0171]])"
      ]
     },
     "execution_count": 13,
     "metadata": {},
     "output_type": "execute_result"
    }
   ],
   "source": [
    "C"
   ]
  },
  {
   "cell_type": "code",
   "execution_count": 14,
   "id": "6a33512f-a21c-4712-b8af-2b3e9f8c93a6",
   "metadata": {},
   "outputs": [
    {
     "data": {
      "text/plain": [
       "tensor([-0.3566, -0.4755])"
      ]
     },
     "execution_count": 14,
     "metadata": {},
     "output_type": "execute_result"
    }
   ],
   "source": [
    "C[5]"
   ]
  },
  {
   "cell_type": "code",
   "execution_count": 17,
   "id": "58b91493-a0e7-4ed2-9b32-d807c9529cfe",
   "metadata": {},
   "outputs": [
    {
     "name": "stdout",
     "output_type": "stream",
     "text": [
      "tensor([[ 0.5977,  1.4086],\n",
      "        [-0.3566, -0.4755],\n",
      "        [ 0.0512, -1.5590]])\n",
      "tensor([[-0.3566, -0.4755],\n",
      "        [ 0.0512, -1.5590],\n",
      "        [-0.9190, -0.3630],\n",
      "        [-0.9190, -0.3630],\n",
      "        [-0.9190, -0.3630],\n",
      "        [-0.9190, -0.3630]])\n"
     ]
    }
   ],
   "source": [
    "print(C[[2,5,6]]) ## 用于index torch.tensor的方法有很多这里还可以使用torh.tensor本身\n",
    "print(C[torch.tensor([5,6,7,7,7,7])])"
   ]
  },
  {
   "cell_type": "code",
   "execution_count": 166,
   "id": "7a539f3a-7a1a-4736-bd16-798c228c2553",
   "metadata": {},
   "outputs": [
    {
     "data": {
      "text/plain": [
       "tensor([-0.0611,  1.4440])"
      ]
     },
     "execution_count": 166,
     "metadata": {},
     "output_type": "execute_result"
    }
   ],
   "source": [
    "F.one_hot(torch.tensor(5),num_classes = 27).float() @ C\n",
    "#将整数 5 转换为一个长度为 27 的独热编码向量，其中第 5 位的值为 1，其余位为 0"
   ]
  },
  {
   "cell_type": "code",
   "execution_count": 167,
   "id": "86097e7e-3ca7-4a7f-be6b-a52d166dd3b7",
   "metadata": {},
   "outputs": [
    {
     "data": {
      "text/plain": [
       "tensor([[-0.0611,  1.4440],\n",
       "        [ 2.8922, -1.1533],\n",
       "        [ 0.8891, -0.4960],\n",
       "        [ 0.8891, -0.4960],\n",
       "        [ 0.8891, -0.4960],\n",
       "        [ 0.8891, -0.4960]])"
      ]
     },
     "execution_count": 167,
     "metadata": {},
     "output_type": "execute_result"
    }
   ],
   "source": [
    "C[torch.tensor([5,6,7,7,7,7])] #从张量 C 中提取指定索引位置的元素"
   ]
  },
  {
   "cell_type": "code",
   "execution_count": 19,
   "id": "fa9207bc-e92e-468d-873c-21c62c8e5859",
   "metadata": {
    "scrolled": true
   },
   "outputs": [
    {
     "data": {
      "text/plain": [
       "'C[X].shape 的意思是从张量 C 中根据索引 X 选择元素，并返回选择后的张量的形状。\\n\\n在这个上下文中：\\n\\nC 是一个形状为 (27, 2) 的张量，表示有 27 个特征，每个特征有 2 个值（可以视为对每个字符的嵌入向量）。\\nX 是一个形状为 (32, 3) 的张量，表示 32 个样本，每个样本有 3 个上下文字符的索引。\\n当你执行 C[X] 时：\\n\\nX 中的每个值都用作 C 的行索引，提取 C 中相应的嵌入向量。\\n结果将是一个新张量，其中包含从 C 中提取的嵌入向量，形状将取决于 X 的形状和 C 的维度。\\n具体来说，C[X] 的形状将是 (32, 3, 2)，因为从 X 中提取了 32 个样本，每个样本有 3 个上下文字符，对应的每个字符有 2 个特征值（来自 C 的嵌入向量）。'"
      ]
     },
     "execution_count": 19,
     "metadata": {},
     "output_type": "execute_result"
    }
   ],
   "source": [
    "#\"embedding\"通常指的是将高维数据映射到低维空间的过程\n",
    "emb = C[X]\n",
    "emb\n",
    "\n",
    "'''C[X].shape 的意思是从张量 C 中根据索引 X 选择元素，并返回选择后的张量的形状。\n",
    "\n",
    "在这个上下文中：\n",
    "\n",
    "C 是一个形状为 (27, 2) 的张量，表示有 27 个特征，每个特征有 2 个值（可以视为对每个字符的嵌入向量）。\n",
    "X 是一个形状为 (32, 3) 的张量，表示 32 个样本，每个样本有 3 个上下文字符的索引。\n",
    "当你执行 C[X] 时：\n",
    "\n",
    "X 中的每个值都用作 C 的行索引，提取 C 中相应的嵌入向量。\n",
    "结果将是一个新张量，其中包含从 C 中提取的嵌入向量，形状将取决于 X 的形状和 C 的维度。\n",
    "具体来说，C[X] 的形状将是 (32, 3, 2)，因为从 X 中提取了 32 个样本，每个样本有 3 个上下文字符，对应的每个字符有 2 个特征值（来自 C 的嵌入向量）。'''"
   ]
  },
  {
   "attachments": {
    "ba1a5c47-e50d-4d4a-807c-7b798d2c5c4d.png": {
     "image/png": "[encoded data removed]"
    }
   },
   "cell_type": "markdown",
   "id": "3df6fcc3-fc82-46ce-bffd-350d6c09cc85",
   "metadata": {},
   "source": [
    "![image.png](attachment:ba1a5c47-e50d-4d4a-807c-7b798d2c5c4d.png)"
   ]
  },
  {
   "cell_type": "code",
   "execution_count": 20,
   "id": "2f315892-5afd-48df-b40c-3a31e4a4f474",
   "metadata": {},
   "outputs": [],
   "source": [
    "W1 = torch.randn((6,100))\n",
    "#隐藏层：首先因为上面的形状是32 * 3 * 2 所以每一个神经元输入的应该是 3 * 2 = 6 的输入\n",
    "#然后我们随机设置隐藏层神经元的数量这里是100个\n",
    "b1 = torch.randn(100)\n",
    "\n",
    "\n",
    "#所以这里的问题就变成了：如何将32 * 3 * 2的矩阵转化成32 * 6 的矩阵以便于实现 emb @ w1 + b1"
   ]
  },
  {
   "cell_type": "code",
   "execution_count": 21,
   "id": "cb567875-9a76-4eb4-818c-8d8271fee27a",
   "metadata": {},
   "outputs": [
    {
     "data": {
      "text/plain": [
       "tensor([[-0.3677, -0.5266, -0.3677, -0.5266, -0.3677, -0.5266],\n",
       "        [-0.3677, -0.5266, -0.3677, -0.5266, -0.3566, -0.4755],\n",
       "        [-0.3677, -0.5266, -0.3566, -0.4755, -0.9382,  0.2738],\n",
       "        [-0.3566, -0.4755, -0.9382,  0.2738, -0.9382,  0.2738],\n",
       "        [-0.9382,  0.2738, -0.9382,  0.2738, -0.1383,  0.3885],\n",
       "        [-0.3677, -0.5266, -0.3677, -0.5266, -0.3677, -0.5266],\n",
       "        [-0.3677, -0.5266, -0.3677, -0.5266,  0.2685,  2.2692],\n",
       "        [-0.3677, -0.5266,  0.2685,  2.2692, -1.1929,  2.4961],\n",
       "        [ 0.2685,  2.2692, -1.1929,  2.4961,  0.6355, -0.1595],\n",
       "        [-1.1929,  2.4961,  0.6355, -0.1595,  1.1283, -0.0508],\n",
       "        [ 0.6355, -0.1595,  1.1283, -0.0508,  0.6355, -0.1595],\n",
       "        [ 1.1283, -0.0508,  0.6355, -0.1595, -0.1383,  0.3885],\n",
       "        [-0.3677, -0.5266, -0.3677, -0.5266, -0.3677, -0.5266],\n",
       "        [-0.3677, -0.5266, -0.3677, -0.5266, -0.1383,  0.3885],\n",
       "        [-0.3677, -0.5266, -0.1383,  0.3885,  1.1283, -0.0508],\n",
       "        [-0.1383,  0.3885,  1.1283, -0.0508, -0.1383,  0.3885],\n",
       "        [-0.3677, -0.5266, -0.3677, -0.5266, -0.3677, -0.5266],\n",
       "        [-0.3677, -0.5266, -0.3677, -0.5266,  0.6355, -0.1595],\n",
       "        [-0.3677, -0.5266,  0.6355, -0.1595, -0.2084,  0.9846],\n",
       "        [ 0.6355, -0.1595, -0.2084,  0.9846, -0.1383,  0.3885],\n",
       "        [-0.2084,  0.9846, -0.1383,  0.3885,  0.5977,  1.4086],\n",
       "        [-0.1383,  0.3885,  0.5977,  1.4086, -0.3566, -0.4755],\n",
       "        [ 0.5977,  1.4086, -0.3566, -0.4755, -1.1929,  2.4961],\n",
       "        [-0.3566, -0.4755, -1.1929,  2.4961, -1.1929,  2.4961],\n",
       "        [-1.1929,  2.4961, -1.1929,  2.4961, -0.1383,  0.3885],\n",
       "        [-0.3677, -0.5266, -0.3677, -0.5266, -0.3677, -0.5266],\n",
       "        [-0.3677, -0.5266, -0.3677, -0.5266, -0.2084,  0.9846],\n",
       "        [-0.3677, -0.5266, -0.2084,  0.9846,  0.2685,  2.2692],\n",
       "        [-0.2084,  0.9846,  0.2685,  2.2692,  0.4356, -0.3778],\n",
       "        [ 0.2685,  2.2692,  0.4356, -0.3778, -0.3558,  1.2853],\n",
       "        [ 0.4356, -0.3778, -0.3558,  1.2853,  0.6355, -0.1595],\n",
       "        [-0.3558,  1.2853,  0.6355, -0.1595, -0.1383,  0.3885]])"
      ]
     },
     "execution_count": 21,
     "metadata": {},
     "output_type": "execute_result"
    }
   ],
   "source": [
    "#第一种方法\n",
    "torch.cat([emb[:,0,:],emb[:,1,:],emb[:,2,:]],1)\n",
    "#最后的1参数表示在第一个维度（即行）上进行拼接。换句话说，它将三个子张量按照列的方式进行拼接，最终返回一个新的张量。"
   ]
  },
  {
   "cell_type": "code",
   "execution_count": 22,
   "id": "1c8565de-638a-4f54-acab-205f57aa285c",
   "metadata": {},
   "outputs": [
    {
     "data": {
      "text/plain": [
       "torch.Size([32, 6])"
      ]
     },
     "execution_count": 22,
     "metadata": {},
     "output_type": "execute_result"
    }
   ],
   "source": [
    "#第二种\n",
    "torch.cat(torch.unbind(emb,1),1).shape   \n",
    "#这种方法的缺点：无法在原有的tensor上扩充，而是只能复制并创建新的张量，耗费时间和空间"
   ]
  },
  {
   "cell_type": "code",
   "execution_count": 23,
   "id": "2918489c-e306-42bd-9aa3-d18128782675",
   "metadata": {},
   "outputs": [
    {
     "data": {
      "text/plain": [
       "tensor([ 0,  1,  2,  3,  4,  5,  6,  7,  8,  9, 10, 11, 12, 13, 14, 15, 16, 17])"
      ]
     },
     "execution_count": 23,
     "metadata": {},
     "output_type": "execute_result"
    }
   ],
   "source": [
    "a = torch.arange(18)\n",
    "a"
   ]
  },
  {
   "cell_type": "code",
   "execution_count": 24,
   "id": "5fa331e1-a96c-4351-b338-590810801a6e",
   "metadata": {},
   "outputs": [
    {
     "data": {
      "text/plain": [
       "torch.Size([18])"
      ]
     },
     "execution_count": 24,
     "metadata": {},
     "output_type": "execute_result"
    }
   ],
   "source": [
    "a.shape"
   ]
  },
  {
   "cell_type": "code",
   "execution_count": 25,
   "id": "894e053b-c819-4bac-8a9f-cf7655a93d1f",
   "metadata": {},
   "outputs": [
    {
     "data": {
      "text/plain": [
       "tensor([[[ 0,  1],\n",
       "         [ 2,  3],\n",
       "         [ 4,  5]],\n",
       "\n",
       "        [[ 6,  7],\n",
       "         [ 8,  9],\n",
       "         [10, 11]],\n",
       "\n",
       "        [[12, 13],\n",
       "         [14, 15],\n",
       "         [16, 17]]])"
      ]
     },
     "execution_count": 25,
     "metadata": {},
     "output_type": "execute_result"
    }
   ],
   "source": [
    "#最后一种\n",
    "a.view(3,3,2)"
   ]
  },
  {
   "cell_type": "code",
   "execution_count": 26,
   "id": "717c7903-91e9-44e6-848c-ad929604298c",
   "metadata": {},
   "outputs": [
    {
     "data": {
      "text/plain": [
       "tensor([[ 0.8453,  0.5530,  0.6259,  ...,  0.2395,  0.8925, -0.8623],\n",
       "        [ 0.8499,  0.5352,  0.6057,  ...,  0.2846,  0.8687, -0.8600],\n",
       "        [ 0.9558,  0.7094, -0.6689,  ...,  0.7617,  0.2823, -0.8811],\n",
       "        ...,\n",
       "        [ 0.5052, -1.0000, -0.9996,  ...,  0.9982, -0.9390,  0.6118],\n",
       "        [ 0.9271, -0.8952,  0.9825,  ...,  0.5150,  0.9226,  0.8953],\n",
       "        [-0.0608, -0.9996, -0.9647,  ...,  0.9421, -0.6742,  0.9592]])"
      ]
     },
     "execution_count": 26,
     "metadata": {},
     "output_type": "execute_result"
    }
   ],
   "source": [
    "h = torch.tanh(emb.view(-1,6) @ W1 + b1)\n",
    "h"
   ]
  },
  {
   "cell_type": "code",
   "execution_count": 27,
   "id": "ecd6c4c7-80b4-49de-b051-e0f46d18d9f0",
   "metadata": {},
   "outputs": [
    {
     "data": {
      "text/plain": [
       "torch.Size([32, 100])"
      ]
     },
     "execution_count": 27,
     "metadata": {},
     "output_type": "execute_result"
    }
   ],
   "source": [
    "h.shape  #这是hidden layer"
   ]
  },
  {
   "cell_type": "code",
   "execution_count": 177,
   "id": "c8fd8df8-1e0b-4159-9dca-23366d9ffe8d",
   "metadata": {},
   "outputs": [],
   "source": [
    "# 32 100\n",
    "# 1  100"
   ]
  },
  {
   "cell_type": "code",
   "execution_count": 28,
   "id": "411d55ea-35ff-4b9e-96e9-3c9f00506358",
   "metadata": {},
   "outputs": [],
   "source": [
    "# final layer\n",
    "W2 = torch.randn((100,27))\n",
    "b2 = torch.randn(27)"
   ]
  },
  {
   "cell_type": "code",
   "execution_count": 29,
   "id": "4c77c247-f65a-45b1-9213-86ac6acae4e4",
   "metadata": {},
   "outputs": [
    {
     "data": {
      "text/plain": [
       "torch.Size([32, 27])"
      ]
     },
     "execution_count": 29,
     "metadata": {},
     "output_type": "execute_result"
    }
   ],
   "source": [
    "logits = h @ W2 + b2\n",
    "logits.shape"
   ]
  },
  {
   "cell_type": "code",
   "execution_count": 30,
   "id": "148bbdc9-903c-4525-ac46-c3f8674b9745",
   "metadata": {},
   "outputs": [],
   "source": [
    "counts = logits.exp()"
   ]
  },
  {
   "cell_type": "code",
   "execution_count": 31,
   "id": "56a6d67a-b69d-4770-a323-118a03a53b24",
   "metadata": {},
   "outputs": [],
   "source": [
    "prob = counts / counts.sum(1,keepdim = True)"
   ]
  },
  {
   "cell_type": "code",
   "execution_count": 32,
   "id": "941c5693-2d27-4869-852c-a00fd2a89270",
   "metadata": {},
   "outputs": [
    {
     "data": {
      "text/plain": [
       "torch.Size([32, 27])"
      ]
     },
     "execution_count": 32,
     "metadata": {},
     "output_type": "execute_result"
    }
   ],
   "source": [
    "prob.shape\n",
    "#这是输入的32 * 3的字符预测的32 * 27 的矩阵每3个都会产生一个1 * 27 的行\n",
    "#这个行代表了每一个字母的概率"
   ]
  },
  {
   "cell_type": "code",
   "execution_count": 33,
   "id": "872f339f-b1e0-464b-9a50-e3e75b61d66b",
   "metadata": {},
   "outputs": [
    {
     "data": {
      "text/plain": [
       "tensor([ 0,  1,  2,  3,  4,  5,  6,  7,  8,  9, 10, 11, 12, 13, 14, 15, 16, 17,\n",
       "        18, 19, 20, 21, 22, 23, 24, 25, 26, 27, 28, 29, 30, 31])"
      ]
     },
     "execution_count": 33,
     "metadata": {},
     "output_type": "execute_result"
    }
   ],
   "source": [
    "torch.arange(32)"
   ]
  },
  {
   "cell_type": "code",
   "execution_count": 35,
   "id": "49379405-efe5-4ec0-ac7b-33074f2caae1",
   "metadata": {},
   "outputs": [
    {
     "data": {
      "text/plain": [
       "tensor(16.2195)"
      ]
     },
     "execution_count": 35,
     "metadata": {},
     "output_type": "execute_result"
    }
   ],
   "source": [
    "#torch.arange(32)相当于是一个数字迭代器\n",
    "loss = -prob[torch.arange(32),Y].log().mean()\n",
    "loss"
   ]
  },
  {
   "cell_type": "markdown",
   "id": "3c041986-d122-4be8-af24-e0ca81e2f973",
   "metadata": {},
   "source": [
    "make the process respectable"
   ]
  },
  {
   "cell_type": "code",
   "execution_count": 36,
   "id": "d04cfc53-43d8-408d-ba3b-a6d7060f2d20",
   "metadata": {},
   "outputs": [
    {
     "data": {
      "text/plain": [
       "(torch.Size([32, 3]), torch.Size([32]))"
      ]
     },
     "execution_count": 36,
     "metadata": {},
     "output_type": "execute_result"
    }
   ],
   "source": [
    "X.shape, Y.shape"
   ]
  },
  {
   "cell_type": "code",
   "execution_count": 37,
   "id": "3d1796b4-aa0f-4e9b-ba1a-73c67d265935",
   "metadata": {},
   "outputs": [],
   "source": [
    "g = torch.Generator().manual_seed(2147483647)\n",
    "C = torch.randn((27,2),generator = g,requires_grad=True)\n",
    "W1 = torch.randn((6,100),generator = g,requires_grad=True)\n",
    "b1 = torch.randn(100,generator = g,requires_grad=True)\n",
    "W2 = torch.randn((100,27),generator = g,requires_grad=True)\n",
    "b2 = torch.randn(27,generator = g,requires_grad=True)\n",
    "parameters = [C,W1,b1,W2,b2]"
   ]
  },
  {
   "cell_type": "code",
   "execution_count": 38,
   "id": "37d42dd0-1c86-4f09-a04e-59f24b09b21f",
   "metadata": {},
   "outputs": [
    {
     "data": {
      "text/plain": [
       "3481"
      ]
     },
     "execution_count": 38,
     "metadata": {},
     "output_type": "execute_result"
    }
   ],
   "source": [
    "sum(p.nelement()for p in parameters)"
   ]
  },
  {
   "cell_type": "markdown",
   "id": "6e5700ea-6182-4332-b533-ba51dd3aeddc",
   "metadata": {},
   "source": [
    "#counts = logits.exp()\n",
    "#probs = counts/ counts.sum(1,keepdim = 1)\n",
    "#loss = - prob[torch.arange(32),Y].log().mean()\n",
    "以上三行等于\n",
    "**loss = F.cross_entropy(logits,Y)**  并且使用这种方法使其更加安全高效"
   ]
  },
  {
   "cell_type": "code",
   "execution_count": 39,
   "id": "f74ac604-be06-4aad-9b43-e1803588fa48",
   "metadata": {
    "tags": []
   },
   "outputs": [
    {
     "name": "stdout",
     "output_type": "stream",
     "text": [
      "17.76971435546875\n",
      "13.656400680541992\n",
      "11.298768997192383\n",
      "9.4524564743042\n",
      "7.984262466430664\n",
      "6.891321182250977\n",
      "6.100014686584473\n",
      "5.452036380767822\n",
      "4.898151874542236\n",
      "4.414664268493652\n"
     ]
    }
   ],
   "source": [
    "for i in range(10):\n",
    "    #forward pass\n",
    "    emb = C[X]\n",
    "    h = torch.tanh(emb.view(-1,6) @ W1 + b1)  #hidden layer output\n",
    "    logits = h @ W2 + b2 #最终输出 logits\n",
    "    loss = F.cross_entropy(logits,Y)  #高效安全的函数,计算交叉熵损失，logits 是模型的预测值，Y 是真实标签。\n",
    "    print(loss.item())\n",
    "    #backward pass\n",
    "    for p in parameters:\n",
    "        p.grad = None\n",
    "    loss.backward()\n",
    "    #update\n",
    "    for p in parameters:\n",
    "        p.data += -0.1*p.grad\n"
   ]
  },
  {
   "cell_type": "code",
   "execution_count": 189,
   "id": "2f9930fd-0b7c-4a27-9556-807d2495d26f",
   "metadata": {
    "tags": []
   },
   "outputs": [],
   "source": [
    "#在运行所有单词时，不妨采用mini-batch的方法，每次选取少量样本进行迭代"
   ]
  },
  {
   "cell_type": "code",
   "execution_count": 190,
   "id": "824b127a-e6f0-4f44-b3ef-25a3cb8a7908",
   "metadata": {},
   "outputs": [
    {
     "data": {
      "text/plain": [
       "tensor([186446,  53778, 198236,  31659, 141757, 192887,  54335, 136230,  54155,\n",
       "         55091, 165540, 167768, 101101,  57747, 195881, 120526,  23138,   6501,\n",
       "         74350,  79269, 145013, 103840, 105004, 105267,  87643,  16421, 219256,\n",
       "        227611,   7041,  30782,   6700,  44073])"
      ]
     },
     "execution_count": 190,
     "metadata": {},
     "output_type": "execute_result"
    }
   ],
   "source": [
    "#创建了索引到数据集的整数，一共32个\n",
    "torch.randint(0,X.shape[0],(32,))\n",
    "#0表示最小值，X.shape[0]表示最大值（X是一个张量，.shape[0]表示张量的第一个维度的长度），(32,)表示生成的张量的形状为一维，长度为32。因此，这段代码的作用是生成一个包含32个在0到X.shape[0]-1之间的随机整数的张量。"
   ]
  },
  {
   "cell_type": "code",
   "execution_count": 191,
   "id": "1129508e-15a9-4b9b-8676-57128c187c7f",
   "metadata": {},
   "outputs": [],
   "source": [
    "lre = torch.linspace(-3,0,1000)  #从0.001到1选出合适的learning_rate\n",
    "lrs = 10**lre"
   ]
  },
  {
   "cell_type": "code",
   "execution_count": 192,
   "id": "4dfb857b-2742-4ac2-a69e-a65533350d2a",
   "metadata": {
    "scrolled": true,
    "tags": []
   },
   "outputs": [
    {
     "name": "stdout",
     "output_type": "stream",
     "text": [
      "12.270853996276855\n",
      "9.939352989196777\n",
      "10.631196975708008\n",
      "10.947728157043457\n",
      "10.436243057250977\n",
      "9.473989486694336\n",
      "13.408858299255371\n",
      "11.702040672302246\n",
      "12.232879638671875\n",
      "10.259766578674316\n",
      "10.094221115112305\n",
      "11.690177917480469\n",
      "8.85692310333252\n",
      "14.47103500366211\n",
      "10.475510597229004\n",
      "11.199850082397461\n",
      "8.915058135986328\n",
      "11.717211723327637\n",
      "12.488569259643555\n",
      "11.769831657409668\n",
      "8.9846830368042\n",
      "14.157022476196289\n",
      "9.162869453430176\n",
      "9.700663566589355\n",
      "12.160381317138672\n",
      "10.106633186340332\n",
      "11.401955604553223\n",
      "11.305797576904297\n",
      "12.013643264770508\n",
      "12.522464752197266\n",
      "9.347331047058105\n",
      "10.753350257873535\n",
      "10.413681030273438\n",
      "10.315061569213867\n",
      "10.436509132385254\n",
      "9.526769638061523\n",
      "11.19677448272705\n",
      "9.81424617767334\n",
      "8.129952430725098\n",
      "12.091875076293945\n",
      "9.862191200256348\n",
      "11.999052047729492\n",
      "9.729060173034668\n",
      "9.253966331481934\n",
      "12.230661392211914\n",
      "11.858785629272461\n",
      "13.884299278259277\n",
      "10.97227668762207\n",
      "11.705939292907715\n",
      "11.000194549560547\n",
      "10.391518592834473\n",
      "10.205963134765625\n",
      "10.015286445617676\n",
      "10.084368705749512\n",
      "10.871044158935547\n",
      "10.705862998962402\n",
      "9.780396461486816\n",
      "9.790292739868164\n",
      "10.7061767578125\n",
      "10.752219200134277\n",
      "11.939635276794434\n",
      "11.897050857543945\n",
      "10.371182441711426\n",
      "10.681791305541992\n",
      "9.513934135437012\n",
      "8.878327369689941\n",
      "9.714553833007812\n",
      "11.226384162902832\n",
      "10.367541313171387\n",
      "10.312073707580566\n",
      "12.563283920288086\n",
      "8.30308723449707\n",
      "11.93598747253418\n",
      "12.41244125366211\n",
      "7.963271141052246\n",
      "10.588813781738281\n",
      "7.921175956726074\n",
      "10.760822296142578\n",
      "11.336652755737305\n",
      "11.895716667175293\n",
      "10.324562072753906\n",
      "8.916291236877441\n",
      "11.676593780517578\n",
      "9.052964210510254\n",
      "9.239849090576172\n",
      "9.83970832824707\n",
      "10.429181098937988\n",
      "10.618205070495605\n",
      "10.193807601928711\n",
      "7.529911994934082\n",
      "10.780573844909668\n",
      "11.18287181854248\n",
      "11.3784818649292\n",
      "8.528070449829102\n",
      "9.82388687133789\n",
      "8.926278114318848\n",
      "10.034554481506348\n",
      "10.14050579071045\n",
      "10.175230979919434\n",
      "9.4984130859375\n",
      "14.066621780395508\n",
      "9.911935806274414\n",
      "10.728423118591309\n",
      "12.92605209350586\n",
      "9.09030818939209\n",
      "10.990657806396484\n",
      "8.88408088684082\n",
      "10.672517776489258\n",
      "12.867911338806152\n",
      "10.948651313781738\n",
      "10.381952285766602\n",
      "9.117082595825195\n",
      "10.296422004699707\n",
      "9.921603202819824\n",
      "10.457489013671875\n",
      "10.129613876342773\n",
      "12.801445007324219\n",
      "11.259650230407715\n",
      "11.001809120178223\n",
      "7.4347615242004395\n",
      "10.338907241821289\n",
      "10.234879493713379\n",
      "10.86896800994873\n",
      "11.556391716003418\n",
      "8.003993034362793\n",
      "9.645404815673828\n",
      "11.582324028015137\n",
      "9.761883735656738\n",
      "11.72185230255127\n",
      "9.658333778381348\n",
      "8.791404724121094\n",
      "9.911067008972168\n",
      "11.896258354187012\n",
      "10.102128028869629\n",
      "9.25511360168457\n",
      "10.286149024963379\n",
      "8.678234100341797\n",
      "10.08094310760498\n",
      "10.87627124786377\n",
      "9.891357421875\n",
      "9.659917831420898\n",
      "10.570745468139648\n",
      "11.771790504455566\n",
      "10.354143142700195\n",
      "10.377705574035645\n",
      "8.712165832519531\n",
      "7.082636833190918\n",
      "10.342683792114258\n",
      "11.04331111907959\n",
      "6.269888877868652\n",
      "7.0384745597839355\n",
      "8.435938835144043\n",
      "9.659200668334961\n",
      "9.614885330200195\n",
      "9.51003646850586\n",
      "9.380152702331543\n",
      "10.139842987060547\n",
      "13.223858833312988\n",
      "10.889674186706543\n",
      "9.785401344299316\n",
      "6.888209342956543\n",
      "11.966035842895508\n",
      "8.47932243347168\n",
      "10.118905067443848\n",
      "8.043012619018555\n",
      "9.385653495788574\n",
      "12.63994312286377\n",
      "10.404546737670898\n",
      "10.101570129394531\n",
      "9.756684303283691\n",
      "11.98938274383545\n",
      "8.514677047729492\n",
      "9.413440704345703\n",
      "11.426910400390625\n",
      "11.029867172241211\n",
      "9.032247543334961\n",
      "10.462244033813477\n",
      "11.080244064331055\n",
      "10.659221649169922\n",
      "9.957720756530762\n",
      "10.942696571350098\n",
      "10.728363037109375\n",
      "9.31319808959961\n",
      "12.0657958984375\n",
      "10.262687683105469\n",
      "7.832834720611572\n",
      "11.371010780334473\n",
      "10.47887134552002\n",
      "6.84099817276001\n",
      "9.766181945800781\n",
      "9.425453186035156\n",
      "11.633752822875977\n",
      "9.628373146057129\n",
      "10.019484519958496\n",
      "7.521139144897461\n",
      "9.144969940185547\n",
      "11.565247535705566\n",
      "9.568485260009766\n",
      "9.248942375183105\n",
      "8.052970886230469\n",
      "8.152475357055664\n",
      "11.766950607299805\n",
      "9.242202758789062\n",
      "9.0187406539917\n",
      "9.866097450256348\n",
      "10.8454008102417\n",
      "9.474539756774902\n",
      "9.454601287841797\n",
      "8.317084312438965\n",
      "9.383092880249023\n",
      "9.807232856750488\n",
      "9.495407104492188\n",
      "9.501696586608887\n",
      "9.108983993530273\n",
      "11.104171752929688\n",
      "9.807464599609375\n",
      "9.623135566711426\n",
      "8.865928649902344\n",
      "10.111799240112305\n",
      "8.337754249572754\n",
      "10.034603118896484\n",
      "10.888917922973633\n",
      "8.532577514648438\n",
      "9.367574691772461\n",
      "11.564759254455566\n",
      "9.16379165649414\n",
      "6.469601154327393\n",
      "9.722017288208008\n",
      "8.6545991897583\n",
      "8.569637298583984\n",
      "10.715383529663086\n",
      "8.059417724609375\n",
      "8.107333183288574\n",
      "8.522991180419922\n",
      "8.133365631103516\n",
      "9.676724433898926\n",
      "7.509005069732666\n",
      "10.522841453552246\n",
      "9.814818382263184\n",
      "7.740266799926758\n",
      "9.318482398986816\n",
      "6.687692165374756\n",
      "7.237407684326172\n",
      "9.259227752685547\n",
      "9.774728775024414\n",
      "9.429900169372559\n",
      "10.18072509765625\n",
      "7.822199821472168\n",
      "10.730206489562988\n",
      "9.77839183807373\n",
      "7.6363444328308105\n",
      "9.544410705566406\n",
      "8.515154838562012\n",
      "8.811247825622559\n",
      "8.72134017944336\n",
      "6.288557529449463\n",
      "8.460625648498535\n",
      "8.286384582519531\n",
      "7.5485076904296875\n",
      "10.034733772277832\n",
      "9.797203063964844\n",
      "8.447395324707031\n",
      "8.641328811645508\n",
      "9.756684303283691\n",
      "6.798898696899414\n",
      "8.900524139404297\n",
      "8.44721794128418\n",
      "8.318325996398926\n",
      "9.377603530883789\n",
      "9.220518112182617\n",
      "7.011667728424072\n",
      "9.870750427246094\n",
      "8.942890167236328\n",
      "8.72988510131836\n",
      "7.477257251739502\n",
      "7.428503036499023\n",
      "10.542830467224121\n",
      "9.510483741760254\n",
      "8.186200141906738\n",
      "7.789383888244629\n",
      "11.440744400024414\n",
      "7.154077529907227\n",
      "8.841411590576172\n",
      "8.265412330627441\n",
      "8.672622680664062\n",
      "8.142984390258789\n",
      "10.640049934387207\n",
      "7.874083042144775\n",
      "8.190934181213379\n",
      "7.180570125579834\n",
      "6.987695693969727\n",
      "7.058235168457031\n",
      "8.341553688049316\n",
      "9.35600757598877\n",
      "7.481293201446533\n",
      "9.015517234802246\n",
      "6.837728500366211\n",
      "10.841171264648438\n",
      "7.055058002471924\n",
      "9.676933288574219\n",
      "6.398193359375\n",
      "9.116739273071289\n",
      "7.950007915496826\n",
      "8.124044418334961\n",
      "8.144997596740723\n",
      "7.565911769866943\n",
      "7.798571586608887\n",
      "7.374614715576172\n",
      "7.992123126983643\n",
      "6.681507110595703\n",
      "8.915206909179688\n",
      "9.805768013000488\n",
      "8.165743827819824\n",
      "8.115116119384766\n",
      "8.183881759643555\n",
      "9.12874698638916\n",
      "12.293057441711426\n",
      "7.316659450531006\n",
      "9.43283748626709\n",
      "6.739748954772949\n",
      "7.046940326690674\n",
      "8.020953178405762\n",
      "7.278044700622559\n",
      "9.572758674621582\n",
      "9.395123481750488\n",
      "8.060843467712402\n",
      "8.606151580810547\n",
      "8.505082130432129\n",
      "8.32181453704834\n",
      "6.6445088386535645\n",
      "7.514888286590576\n",
      "7.064562797546387\n",
      "6.018319129943848\n",
      "9.850521087646484\n",
      "7.5006022453308105\n",
      "8.244104385375977\n",
      "8.280487060546875\n",
      "6.750552654266357\n",
      "9.451790809631348\n",
      "6.932377815246582\n",
      "7.905625343322754\n",
      "7.234837532043457\n",
      "7.472506999969482\n",
      "7.81442928314209\n",
      "8.595488548278809\n",
      "6.3177666664123535\n",
      "7.6047892570495605\n",
      "8.422699928283691\n",
      "6.895480632781982\n",
      "7.548537254333496\n",
      "7.798655986785889\n",
      "6.549346446990967\n",
      "7.262608051300049\n",
      "9.553731918334961\n",
      "5.924969673156738\n",
      "6.906257152557373\n",
      "6.547321319580078\n",
      "8.044891357421875\n",
      "8.840490341186523\n",
      "7.239405155181885\n",
      "6.9577813148498535\n",
      "7.061137676239014\n",
      "6.896121501922607\n",
      "7.390190124511719\n",
      "6.47080659866333\n",
      "6.734662055969238\n",
      "9.535469055175781\n",
      "8.151078224182129\n",
      "6.784243583679199\n",
      "5.731908798217773\n",
      "6.3326215744018555\n",
      "6.326359748840332\n",
      "6.574606895446777\n",
      "7.459578990936279\n",
      "6.032511234283447\n",
      "6.291750907897949\n",
      "6.636421203613281\n",
      "6.979563236236572\n",
      "7.630558490753174\n",
      "6.691626071929932\n",
      "5.423171043395996\n",
      "8.373411178588867\n",
      "9.143001556396484\n",
      "4.865917682647705\n",
      "6.799064636230469\n",
      "6.794106483459473\n",
      "4.90540885925293\n",
      "6.871330738067627\n",
      "6.813008785247803\n",
      "5.024659633636475\n",
      "5.3275980949401855\n",
      "7.786130428314209\n",
      "5.248467445373535\n",
      "8.130340576171875\n",
      "7.80864953994751\n",
      "7.54387092590332\n",
      "5.651795387268066\n",
      "8.177165985107422\n",
      "5.8319573402404785\n",
      "7.936084747314453\n",
      "5.174616813659668\n",
      "6.034274578094482\n",
      "6.600287437438965\n",
      "8.645459175109863\n",
      "9.928072929382324\n",
      "7.224853992462158\n",
      "6.129693508148193\n",
      "4.904029846191406\n",
      "5.758695125579834\n",
      "8.10450553894043\n",
      "8.523076057434082\n",
      "7.335819244384766\n",
      "6.240922927856445\n",
      "6.051395893096924\n",
      "7.851085662841797\n",
      "5.297538757324219\n",
      "7.363514423370361\n",
      "6.265398979187012\n",
      "6.343800067901611\n",
      "4.515543460845947\n",
      "6.049008369445801\n",
      "7.420485019683838\n",
      "7.559103965759277\n",
      "8.457307815551758\n",
      "5.546050548553467\n",
      "5.41639518737793\n",
      "5.676473617553711\n",
      "5.853230953216553\n",
      "5.2581095695495605\n",
      "5.5377936363220215\n",
      "5.696245193481445\n",
      "7.641479015350342\n",
      "6.036835193634033\n",
      "6.251486778259277\n",
      "7.197959899902344\n",
      "4.73291540145874\n",
      "6.73198127746582\n",
      "6.064094066619873\n",
      "5.259742736816406\n",
      "6.963426113128662\n",
      "7.833171367645264\n",
      "5.190176486968994\n",
      "5.613430500030518\n",
      "4.553728103637695\n",
      "7.088949680328369\n",
      "4.0904011726379395\n",
      "6.3033270835876465\n",
      "5.237834453582764\n",
      "4.631204605102539\n",
      "8.396814346313477\n",
      "5.8281168937683105\n",
      "7.0212249755859375\n",
      "5.223088264465332\n",
      "7.467029094696045\n",
      "6.059910774230957\n",
      "4.980678081512451\n",
      "6.866692543029785\n",
      "5.991385459899902\n",
      "5.73442268371582\n",
      "6.174285411834717\n",
      "5.974712371826172\n",
      "5.259706974029541\n",
      "4.970442295074463\n",
      "5.133109092712402\n",
      "6.070466041564941\n",
      "4.702541351318359\n",
      "6.617991924285889\n",
      "5.572381973266602\n",
      "4.755341053009033\n",
      "6.7471604347229\n",
      "3.736478090286255\n",
      "5.31449556350708\n",
      "5.594728469848633\n",
      "4.584269046783447\n",
      "5.484065532684326\n",
      "4.129086494445801\n",
      "5.474287986755371\n",
      "4.933914661407471\n",
      "5.123963832855225\n",
      "5.375732421875\n",
      "5.101372718811035\n",
      "5.468977928161621\n",
      "4.5743088722229\n",
      "6.625728607177734\n",
      "6.327066898345947\n",
      "4.715453147888184\n",
      "5.74125862121582\n",
      "4.698723316192627\n",
      "4.4054718017578125\n",
      "5.959775924682617\n",
      "4.717055797576904\n",
      "6.950150012969971\n",
      "5.819164276123047\n",
      "5.178534984588623\n",
      "4.789340496063232\n",
      "7.519491195678711\n",
      "5.772487163543701\n",
      "5.071935653686523\n",
      "5.005926609039307\n",
      "4.772853374481201\n",
      "4.318838596343994\n",
      "4.091214656829834\n",
      "4.661293029785156\n",
      "3.7177553176879883\n",
      "3.5784661769866943\n",
      "4.22506046295166\n",
      "4.822663307189941\n",
      "6.417318820953369\n",
      "5.748255252838135\n",
      "5.374865531921387\n",
      "4.202383995056152\n",
      "5.744382858276367\n",
      "4.593790054321289\n",
      "5.089115142822266\n",
      "2.8372538089752197\n",
      "6.09981107711792\n",
      "5.278009414672852\n",
      "3.924271583557129\n",
      "4.56117057800293\n",
      "3.666506052017212\n",
      "5.649764060974121\n",
      "4.706989288330078\n",
      "3.811549663543701\n",
      "4.179245471954346\n",
      "4.974550724029541\n",
      "4.044214725494385\n",
      "4.782041549682617\n",
      "4.5859694480896\n",
      "4.533491611480713\n",
      "4.527562141418457\n",
      "4.722794055938721\n",
      "3.7179715633392334\n",
      "4.206604957580566\n",
      "4.734158992767334\n",
      "4.299172401428223\n",
      "4.623076438903809\n",
      "3.9601540565490723\n",
      "3.7240962982177734\n",
      "3.871337652206421\n",
      "3.9447407722473145\n",
      "3.220512866973877\n",
      "4.302461624145508\n",
      "4.699538707733154\n",
      "4.135577201843262\n",
      "4.145306587219238\n",
      "5.190758228302002\n",
      "3.8404674530029297\n",
      "5.308398246765137\n",
      "4.861710548400879\n",
      "3.622218370437622\n",
      "3.6194992065429688\n",
      "4.344318389892578\n",
      "4.388364315032959\n",
      "3.5293493270874023\n",
      "4.9964375495910645\n",
      "3.8766276836395264\n",
      "4.670925617218018\n",
      "4.017638683319092\n",
      "3.754117965698242\n",
      "4.001043796539307\n",
      "5.572058200836182\n",
      "3.8373312950134277\n",
      "4.580246925354004\n",
      "4.968535423278809\n",
      "4.172215461730957\n",
      "3.8784120082855225\n",
      "4.462552547454834\n",
      "4.8599395751953125\n",
      "3.955827236175537\n",
      "3.897550582885742\n",
      "3.9159393310546875\n",
      "3.787477731704712\n",
      "4.460329055786133\n",
      "3.896693468093872\n",
      "4.350840091705322\n",
      "4.830490589141846\n",
      "3.975658893585205\n",
      "3.5338337421417236\n",
      "3.3172318935394287\n",
      "3.9244790077209473\n",
      "3.778268575668335\n",
      "4.344271659851074\n",
      "2.740877628326416\n",
      "4.043951511383057\n",
      "3.6442294120788574\n",
      "3.0953917503356934\n",
      "4.296825408935547\n",
      "3.7821097373962402\n",
      "3.224191427230835\n",
      "3.810546636581421\n",
      "3.4458093643188477\n",
      "4.0633416175842285\n",
      "3.261197566986084\n",
      "3.36334228515625\n",
      "4.4791460037231445\n",
      "3.914975166320801\n",
      "3.4333455562591553\n",
      "3.264134407043457\n",
      "3.619359016418457\n",
      "5.092881202697754\n",
      "3.1970055103302\n",
      "3.2156026363372803\n",
      "4.093296527862549\n",
      "4.000574111938477\n",
      "3.2490599155426025\n",
      "3.3741695880889893\n",
      "3.937201499938965\n",
      "3.7764317989349365\n",
      "3.210014581680298\n",
      "2.980837821960449\n",
      "2.787562608718872\n",
      "2.672234535217285\n",
      "3.761542797088623\n",
      "2.8504796028137207\n",
      "3.645085096359253\n",
      "2.7378742694854736\n",
      "4.009562969207764\n",
      "3.947906970977783\n",
      "3.2678489685058594\n",
      "3.205569267272949\n",
      "3.278592824935913\n",
      "3.2619967460632324\n",
      "4.797065734863281\n",
      "3.3944802284240723\n",
      "3.158721923828125\n",
      "3.535576343536377\n",
      "3.256486415863037\n",
      "3.6509792804718018\n",
      "3.5407772064208984\n",
      "3.350306987762451\n",
      "3.958853006362915\n",
      "3.542790412902832\n",
      "3.454474687576294\n",
      "3.2754971981048584\n",
      "2.839108943939209\n",
      "3.045997142791748\n",
      "3.6134581565856934\n",
      "3.344679355621338\n",
      "3.878549814224243\n",
      "3.1724765300750732\n",
      "2.9794998168945312\n",
      "4.02569580078125\n",
      "3.3497588634490967\n",
      "2.9981629848480225\n",
      "3.317692518234253\n",
      "3.5714261531829834\n",
      "3.7073683738708496\n",
      "3.4220306873321533\n",
      "3.7557907104492188\n",
      "4.108346939086914\n",
      "3.1310808658599854\n",
      "3.744999408721924\n",
      "4.289429187774658\n",
      "3.3876290321350098\n",
      "3.0121188163757324\n",
      "2.82119083404541\n",
      "3.0289037227630615\n",
      "2.8952932357788086\n",
      "3.097428560256958\n",
      "3.51363205909729\n",
      "3.125515937805176\n",
      "2.663675546646118\n",
      "3.4562504291534424\n",
      "3.1041083335876465\n",
      "3.0245091915130615\n",
      "3.6253132820129395\n",
      "3.1482832431793213\n",
      "3.671306610107422\n",
      "2.9895920753479004\n",
      "3.4268205165863037\n",
      "3.3425705432891846\n",
      "2.4275660514831543\n",
      "3.532473087310791\n",
      "3.525294780731201\n",
      "2.692460298538208\n",
      "2.7204349040985107\n",
      "3.544598340988159\n",
      "3.177924156188965\n",
      "3.2808403968811035\n",
      "2.9580671787261963\n",
      "3.0041909217834473\n",
      "3.4086601734161377\n",
      "3.3735759258270264\n",
      "2.8788034915924072\n",
      "3.578831911087036\n",
      "3.7853810787200928\n",
      "2.9683165550231934\n",
      "2.8236782550811768\n",
      "3.298593521118164\n",
      "3.866511106491089\n",
      "3.07631778717041\n",
      "2.6550934314727783\n",
      "2.826946258544922\n",
      "2.9060897827148438\n",
      "3.24658203125\n",
      "3.3153486251831055\n",
      "3.5513060092926025\n",
      "2.986687183380127\n",
      "3.007645606994629\n",
      "2.458101749420166\n",
      "2.89298152923584\n",
      "2.3153302669525146\n",
      "3.1232004165649414\n",
      "3.1699252128601074\n",
      "2.9507834911346436\n",
      "3.114044666290283\n",
      "2.8747305870056152\n",
      "2.851137161254883\n",
      "2.9423210620880127\n",
      "3.1622982025146484\n",
      "3.1407089233398438\n",
      "2.8734352588653564\n",
      "3.3397505283355713\n",
      "3.1938209533691406\n",
      "3.1389122009277344\n",
      "4.241069316864014\n",
      "2.8679187297821045\n",
      "3.3436927795410156\n",
      "3.506974220275879\n",
      "3.1479694843292236\n",
      "2.844209671020508\n",
      "3.308116912841797\n",
      "3.5237326622009277\n",
      "2.7421343326568604\n",
      "3.063314914703369\n",
      "3.0416712760925293\n",
      "3.2145838737487793\n",
      "2.616934299468994\n",
      "2.8550431728363037\n",
      "3.1056063175201416\n",
      "3.063239336013794\n",
      "3.26670503616333\n",
      "3.3016438484191895\n",
      "3.1151740550994873\n",
      "3.0320026874542236\n",
      "3.1522929668426514\n",
      "2.6099514961242676\n",
      "3.0229384899139404\n",
      "2.6438820362091064\n",
      "3.0681681632995605\n",
      "3.022082805633545\n",
      "3.3175289630889893\n",
      "2.934351682662964\n",
      "2.694373846054077\n",
      "3.123706579208374\n",
      "2.706989288330078\n",
      "3.101661205291748\n",
      "3.4603848457336426\n",
      "3.5820705890655518\n",
      "3.549556016921997\n",
      "3.1627752780914307\n",
      "2.7860758304595947\n",
      "2.844104290008545\n",
      "3.8090462684631348\n",
      "3.779726266860962\n",
      "2.710789203643799\n",
      "2.895538568496704\n",
      "3.2729337215423584\n",
      "2.767296552658081\n",
      "2.4605565071105957\n",
      "3.796246290206909\n",
      "3.1049728393554688\n",
      "2.9824774265289307\n",
      "3.0101189613342285\n",
      "3.3851499557495117\n",
      "3.3940062522888184\n",
      "3.117189407348633\n",
      "3.1972222328186035\n",
      "2.879685640335083\n",
      "2.9878742694854736\n",
      "2.922365427017212\n",
      "2.421379327774048\n",
      "3.3254971504211426\n",
      "4.744053363800049\n",
      "2.9409568309783936\n",
      "2.834886074066162\n",
      "2.7849717140197754\n",
      "3.448533773422241\n",
      "3.382777452468872\n",
      "3.2301623821258545\n",
      "3.164945125579834\n",
      "2.96940279006958\n",
      "4.296926021575928\n",
      "3.3444817066192627\n",
      "3.257840871810913\n",
      "2.8373801708221436\n",
      "3.042996644973755\n",
      "2.4494848251342773\n",
      "3.1314501762390137\n",
      "3.2288355827331543\n",
      "3.4094204902648926\n",
      "3.0189313888549805\n",
      "3.2910029888153076\n",
      "3.9533169269561768\n",
      "2.9285807609558105\n",
      "3.426362991333008\n",
      "2.868799924850464\n",
      "3.3660433292388916\n",
      "3.3015217781066895\n",
      "3.4778058528900146\n",
      "3.8134052753448486\n",
      "2.7027359008789062\n",
      "3.189749002456665\n",
      "3.53891921043396\n",
      "3.053797960281372\n",
      "3.7520298957824707\n",
      "3.374131917953491\n",
      "3.480074644088745\n",
      "3.50646710395813\n",
      "3.086285352706909\n",
      "3.865419387817383\n",
      "3.842475175857544\n",
      "3.0868918895721436\n",
      "4.1169633865356445\n",
      "3.2809321880340576\n",
      "3.398028612136841\n",
      "3.7557859420776367\n",
      "3.350142240524292\n",
      "2.8472790718078613\n",
      "3.3530399799346924\n",
      "3.6223487854003906\n",
      "3.5259714126586914\n",
      "3.5958266258239746\n",
      "3.141902446746826\n",
      "3.729703426361084\n",
      "4.259800910949707\n",
      "3.851027011871338\n",
      "3.7713279724121094\n",
      "3.8619461059570312\n",
      "3.430659532546997\n",
      "2.888509511947632\n",
      "2.482846975326538\n",
      "2.9684739112854004\n",
      "3.7057602405548096\n",
      "4.843868255615234\n",
      "4.884632587432861\n",
      "5.2681355476379395\n",
      "3.9587721824645996\n",
      "3.8081915378570557\n",
      "3.4276039600372314\n",
      "3.4533345699310303\n",
      "4.333399295806885\n",
      "2.8699612617492676\n",
      "3.5244150161743164\n",
      "3.8573882579803467\n",
      "3.3891332149505615\n",
      "3.2338366508483887\n",
      "3.9057538509368896\n",
      "4.186301231384277\n",
      "3.6057446002960205\n",
      "3.224885940551758\n",
      "3.733149528503418\n",
      "3.8845953941345215\n",
      "2.852416753768921\n",
      "2.8174490928649902\n",
      "2.9431164264678955\n",
      "3.046356201171875\n",
      "2.8807532787323\n",
      "4.192483901977539\n",
      "4.172351360321045\n",
      "4.126712799072266\n",
      "3.796639919281006\n",
      "3.6459877490997314\n",
      "3.3888344764709473\n",
      "4.136253833770752\n",
      "4.037121772766113\n",
      "3.4126648902893066\n",
      "3.109722137451172\n",
      "4.215601921081543\n",
      "3.371161460876465\n",
      "4.4981231689453125\n",
      "4.6988396644592285\n",
      "3.6084446907043457\n",
      "3.983046770095825\n",
      "4.612619400024414\n",
      "4.1321210861206055\n",
      "4.0005316734313965\n",
      "3.7436516284942627\n",
      "3.9788453578948975\n",
      "4.962612152099609\n",
      "4.593813419342041\n",
      "5.883612155914307\n",
      "5.428171634674072\n",
      "5.065693378448486\n",
      "4.71757173538208\n",
      "4.376501083374023\n",
      "4.070065021514893\n",
      "5.0582733154296875\n",
      "4.582798480987549\n",
      "4.5546770095825195\n",
      "5.328041076660156\n",
      "4.7074384689331055\n",
      "4.8535847663879395\n",
      "4.0667805671691895\n",
      "4.9498090744018555\n",
      "6.0634307861328125\n",
      "6.311335563659668\n",
      "7.097275733947754\n",
      "4.284521579742432\n",
      "6.321096897125244\n",
      "4.242389678955078\n",
      "4.268918991088867\n",
      "4.112307548522949\n",
      "5.952916145324707\n",
      "5.636926651000977\n",
      "4.916800498962402\n",
      "6.3861613273620605\n",
      "6.81070613861084\n",
      "7.531742572784424\n",
      "7.255241870880127\n",
      "7.119211196899414\n",
      "5.340033054351807\n",
      "7.8177170753479\n",
      "5.2597222328186035\n",
      "5.478994846343994\n",
      "6.229193687438965\n",
      "5.161452293395996\n",
      "6.349183082580566\n",
      "5.2841362953186035\n",
      "4.589999675750732\n",
      "4.401862144470215\n",
      "4.341253280639648\n",
      "5.428842544555664\n",
      "6.655648708343506\n",
      "4.390562534332275\n",
      "6.163656234741211\n",
      "5.522674083709717\n",
      "4.38067626953125\n",
      "4.7973198890686035\n",
      "6.8551344871521\n",
      "6.242659568786621\n",
      "5.071506500244141\n",
      "4.2094926834106445\n",
      "4.65187406539917\n",
      "5.641421318054199\n",
      "5.224335193634033\n",
      "3.2550783157348633\n",
      "3.7767646312713623\n",
      "5.013953685760498\n",
      "5.710894584655762\n",
      "6.2319183349609375\n",
      "4.545070648193359\n",
      "3.973026752471924\n",
      "5.4581098556518555\n",
      "5.2549729347229\n",
      "4.644162178039551\n",
      "6.871549129486084\n",
      "6.141989231109619\n",
      "6.476872444152832\n",
      "3.737452268600464\n",
      "4.221479415893555\n",
      "4.253819942474365\n",
      "6.4906206130981445\n",
      "5.816957950592041\n",
      "6.721359729766846\n",
      "7.237485885620117\n",
      "9.69426155090332\n",
      "8.87455940246582\n",
      "8.32192325592041\n",
      "9.209680557250977\n",
      "8.122681617736816\n",
      "4.454514026641846\n",
      "6.995807647705078\n",
      "4.998146057128906\n",
      "8.264920234680176\n",
      "7.666849136352539\n",
      "7.950192928314209\n",
      "6.422030448913574\n",
      "6.529344081878662\n",
      "6.783481597900391\n",
      "8.330350875854492\n",
      "7.058695316314697\n",
      "5.796342849731445\n",
      "8.760797500610352\n",
      "8.481228828430176\n",
      "8.045989990234375\n",
      "6.534233570098877\n",
      "7.714136600494385\n",
      "6.105062961578369\n",
      "7.831787586212158\n",
      "8.662717819213867\n",
      "5.818116188049316\n",
      "7.125357627868652\n",
      "4.008617877960205\n",
      "9.10651683807373\n",
      "7.895838260650635\n",
      "6.141242980957031\n",
      "6.106581211090088\n",
      "6.707608699798584\n",
      "5.989841461181641\n",
      "6.842540740966797\n",
      "5.072971343994141\n",
      "8.048914909362793\n",
      "5.526817321777344\n",
      "8.273715019226074\n",
      "6.264381408691406\n",
      "4.669864177703857\n",
      "6.473796367645264\n",
      "9.251049995422363\n",
      "7.6866254806518555\n"
     ]
    }
   ],
   "source": [
    "lri = []\n",
    "lossi = []\n",
    "\n",
    "for i in range(1000):\n",
    "    #minibatch construct\n",
    "    ix = torch.randint(0,X.shape[0],(32,))\n",
    "    #forward pass\n",
    "    emb = C[X[ix]]\n",
    "    h = torch.tanh(emb.view(-1,6) @ W1 + b1)  #hidden layer output\n",
    "    logits = h @ W2 + b2 #最终输出 logits\n",
    "    loss = F.cross_entropy(logits,Y[ix])  #高效安全的函数,计算交叉熵损失，logits 是模型的预测值，Y 是真实标签。\n",
    "    print(loss.item())\n",
    "    #backward pass\n",
    "    for p in parameters:\n",
    "        p.grad = None\n",
    "    loss.backward()\n",
    "    #update\n",
    "    lr = lrs[i]\n",
    "    for p in parameters:\n",
    "        p.data += -lr*p.grad\n",
    "    lri.append(lre[i])\n",
    "    lossi.append(loss.item())\n"
   ]
  },
  {
   "cell_type": "code",
   "execution_count": 193,
   "id": "19872267-b262-4de9-ab1e-b67e76185c0f",
   "metadata": {},
   "outputs": [
    {
     "name": "stdout",
     "output_type": "stream",
     "text": [
      "<class 'list'> <class 'list'>\n"
     ]
    },
    {
     "data": {
      "text/plain": [
       "[<matplotlib.lines.Line2D at 0x210cc5f8b60>]"
      ]
     },
     "execution_count": 193,
     "metadata": {},
     "output_type": "execute_result"
    },
    {
     "data": {
      "image/png": "[encoded data removed]",
      "text/plain": [
       "<Figure size 640x480 with 1 Axes>"
      ]
     },
     "metadata": {},
     "output_type": "display_data"
    }
   ],
   "source": [
    "\n",
    "print(type(lri),type(lossi))\n",
    "plt.plot(lri, lossi)\n",
    "#plt.show()"
   ]
  },
  {
   "cell_type": "markdown",
   "id": "5da75d3d-39d4-4338-ad24-001f1dee476b",
   "metadata": {},
   "source": [
    "从loss值可以看出，用该神经网络的方法可以训练出比first中更为优秀的结果？\n",
    "用同样的数据训练，并用相同的数据计算loss并不能避免overfitting的产生：\n",
    "将数据集分成三份：training split, dev split, validation split 8/1/1\n",
    "training split:训练模型参数\n",
    "dev split:训练超参数，例如隐藏层的大小，嵌入的大小，正则化参数\n",
    "validation split：评估最终模型性能"
   ]
  },
  {
   "cell_type": "code",
   "execution_count": 194,
   "id": "e3639337-b966-435d-bcff-01e82d479b0d",
   "metadata": {
    "tags": []
   },
   "outputs": [
    {
     "name": "stdout",
     "output_type": "stream",
     "text": [
      "torch.Size([182625, 3]) torch.Size([182625])\n",
      "torch.Size([22655, 3]) torch.Size([22655])\n",
      "torch.Size([22866, 3]) torch.Size([22866])\n"
     ]
    }
   ],
   "source": [
    "def build_dataset(words):\n",
    "    block_size = 3 #context length: how many characters do we take to predict the next one\n",
    "    X,Y = [],[]  #x:INPUTS;y:LABLES\n",
    "    for w in words:\n",
    "        #print(w)\n",
    "        context = [0]*block_size  #初始化一个长度为block_size的全零列表作为初始上下文\n",
    "        for ch in w + '.':\n",
    "            ix = stoi[ch]\n",
    "            X.append(context)\n",
    "            Y.append(ix)\n",
    "            #print(''.join(itos[i] for i in context), '--->', itos[ix])\n",
    "            context = context[1:] + [ix]  #crop and append\n",
    "            #这行代码更新上下文：它去掉最旧的字符（即列表的第一个元素）并添加当前字符的新索引。这使得上下文始终包含最新的3个字符。\n",
    "    X = torch.tensor(X)\n",
    "    Y = torch.tensor(Y)\n",
    "    print(X.shape, Y.shape)\n",
    "    return X,Y\n",
    "    \n",
    "    \n",
    "import random\n",
    "random.seed(42)\n",
    "random.shuffle(words)\n",
    "n1 = int(0.8*len(words))\n",
    "n2 = int(0.9*len(words))\n",
    "\n",
    "Xtr,Ytr = build_dataset(words[:n1])\n",
    "Xdev, Ydev = build_dataset(words[n1:n2])\n",
    "Xte,Yte = build_dataset(words[n2:])"
   ]
  },
  {
   "cell_type": "code",
   "execution_count": 195,
   "id": "a88daf2f-ed1c-400c-87bd-c2a5e4fa569b",
   "metadata": {},
   "outputs": [
    {
     "data": {
      "text/plain": [
       "(torch.Size([182625, 3]), torch.Size([182625]))"
      ]
     },
     "execution_count": 195,
     "metadata": {},
     "output_type": "execute_result"
    }
   ],
   "source": [
    "Xtr.shape, Ytr.shape"
   ]
  },
  {
   "cell_type": "code",
   "execution_count": 196,
   "id": "1800eda9-86df-45cd-a975-90d4690769c7",
   "metadata": {},
   "outputs": [],
   "source": [
    "g = torch.Generator().manual_seed(2147483647)\n",
    "C = torch.randn((27,2),generator = g,requires_grad=True)\n",
    "W1 = torch.randn((6,200),generator = g,requires_grad=True)  #若想要增加隐藏层神经元的个数，就可以改变W1,b1,W2100位置的数字\n",
    "b1 = torch.randn(200,generator = g,requires_grad=True)\n",
    "W2 = torch.randn((200,27),generator = g,requires_grad=True)\n",
    "b2 = torch.randn(27,generator = g,requires_grad=True)\n",
    "parameters = [C,W1,b1,W2,b2]"
   ]
  },
  {
   "cell_type": "code",
   "execution_count": 197,
   "id": "69d44095-b188-488c-9a07-33a216ee2883",
   "metadata": {},
   "outputs": [
    {
     "data": {
      "text/plain": [
       "6881"
      ]
     },
     "execution_count": 197,
     "metadata": {},
     "output_type": "execute_result"
    }
   ],
   "source": [
    "sum(p.nelement() for p in parameters) #计算总参数的多少"
   ]
  },
  {
   "cell_type": "code",
   "execution_count": 206,
   "id": "50b8982e-4100-4e99-927b-3bc2713ad90c",
   "metadata": {},
   "outputs": [
    {
     "data": {
      "text/plain": [
       "tensor(2.6019, grad_fn=<NllLossBackward0>)"
      ]
     },
     "execution_count": 206,
     "metadata": {},
     "output_type": "execute_result"
    }
   ],
   "source": [
    "lossi = []\n",
    "stepi = []\n",
    "for i in range(30000):\n",
    "    #minibatch construct\n",
    "    ix = torch.randint(0,Xtr.shape[0],(64,))  #也可以更改batch-size(虽然size越大，可能运行速度就会越慢，但是往往结果会更好)\n",
    "    #forward pass\n",
    "    emb = C[Xtr[ix]]\n",
    "    h = torch.tanh(emb.view(-1,6) @ W1 + b1)  #hidden layer output\n",
    "    logits = h @ W2 + b2 #最终输出 logits\n",
    "    loss = F.cross_entropy(logits,Ytr[ix])  #高效安全的函数,计算交叉熵损失，logits 是模型的预测值，Y 是真实标签。\n",
    "    #print(loss.item())\n",
    "    #backward pass\n",
    "    for p in parameters:\n",
    "        p.grad = None\n",
    "    loss.backward()\n",
    "    #update\n",
    "    for p in parameters:\n",
    "        p.data += -0.01*p.grad  #learning rate一开始可以设置成0.1,再次运行之后设置成0.01\n",
    "    stepi.append(i)\n",
    "    lossi.append(loss.log10().item())\n",
    "loss"
   ]
  },
  {
   "cell_type": "code",
   "execution_count": 207,
   "id": "ad03a26e-ec50-4a86-8ef1-2f21da8af801",
   "metadata": {},
   "outputs": [
    {
     "data": {
      "text/plain": [
       "[<matplotlib.lines.Line2D at 0x210e57753d0>]"
      ]
     },
     "execution_count": 207,
     "metadata": {},
     "output_type": "execute_result"
    },
    {
     "data": {
      "image/png": "[encoded data removed]",
      "text/plain": [
       "<Figure size 640x480 with 1 Axes>"
      ]
     },
     "metadata": {},
     "output_type": "display_data"
    }
   ],
   "source": [
    "plt.plot(stepi,lossi)"
   ]
  },
  {
   "cell_type": "code",
   "execution_count": 208,
   "id": "b1ff4a25-3654-48de-afb7-e4f6344107cd",
   "metadata": {},
   "outputs": [
    {
     "data": {
      "text/plain": [
       "tensor(2.4448, grad_fn=<NllLossBackward0>)"
      ]
     },
     "execution_count": 208,
     "metadata": {},
     "output_type": "execute_result"
    }
   ],
   "source": [
    "emb = C[Xdev]\n",
    "h = torch.tanh(emb.view(-1,6)@W1 + b1)\n",
    "logits = h @ W2 + b2 #最终输出 logits\n",
    "loss = F.cross_entropy(logits,Ydev)\n",
    "loss  #若与上面的loss差不多，说明没有达到过拟合的程度，那么需要考虑增加隐藏层神经元的个数\n",
    "#若超过上面的loss，则说明可能已经过拟合了"
   ]
  },
  {
   "cell_type": "code",
   "execution_count": 209,
   "id": "7e321015-60fd-48e2-aec2-fce12bdffecc",
   "metadata": {},
   "outputs": [
    {
     "data": {
      "text/plain": [
       "tensor(2.4509, grad_fn=<NllLossBackward0>)"
      ]
     },
     "execution_count": 209,
     "metadata": {},
     "output_type": "execute_result"
    }
   ],
   "source": [
    "emb = C[Xte]\n",
    "h = torch.tanh(emb.view(-1,6)@W1 + b1)\n",
    "logits = h @ W2 + b2 #最终输出 logits\n",
    "loss = F.cross_entropy(logits,Yte)\n",
    "loss  #用来在论文中引用时所需要的最终数据"
   ]
  },
  {
   "cell_type": "code",
   "execution_count": 202,
   "id": "3f445125-9636-4c04-90a9-f2cab38c3ba7",
   "metadata": {},
   "outputs": [
    {
     "data": {
      "image/png": "[encoded data removed]",
      "text/plain": [
       "<Figure size 800x800 with 1 Axes>"
      ]
     },
     "metadata": {},
     "output_type": "display_data"
    }
   ],
   "source": [
    "plt.figure(figsize=(8,8))\n",
    "plt.scatter(C[:,0].data,C[:,1].data,s=200)\n",
    "for i in range(C.shape[0]):\n",
    "    plt.text(C[i,0].item(),C[i,1].item(),itos[i],ha = \"center\",va = \"center\",color=\"white\")\n",
    "plt.grid('minor')"
   ]
  },
  {
   "cell_type": "code",
   "execution_count": null,
   "id": "5c5496e5-778f-4322-9a54-866e98ded916",
   "metadata": {},
   "outputs": [],
   "source": [
    "# sample from the model \n",
    "g = torch.Generator().manual_seed(2147483647)\n",
    "for i in range(20):\n",
    "    out = []\n",
    "    context = [0] * block_size\n",
    "    while True:\n",
    "        xenc = C[torch.tensor([context])]\n",
    "        h = torch.tanh(emb.view(1,-1)@W1 + b1)\n",
    "        logits = h @ W2 + b2 #最终输出 logits\n",
    "        probs = F.softmax(logits,dim=1)\n",
    "        ix = torch.multinomial(probs, num_samples = 1, generator = g).item()\n",
    "        context = context[1:] + [ix]\n",
    "        out.append(itos[ix])\n",
    "        if ix == 0:\n",
    "            break\n",
    "    print(''.join(out))"
   ]
  },
  {
   "cell_type": "code",
   "execution_count": null,
   "id": "d7423a29-95a9-4268-ae2d-66ca2900ea9b",
   "metadata": {},
   "outputs": [],
   "source": []
  },
  {
   "cell_type": "code",
   "execution_count": null,
   "id": "244d1a33-7f47-4f91-b829-10b18656e83c",
   "metadata": {},
   "outputs": [],
   "source": []
  }
 ],
 "metadata": {
  "kernelspec": {
   "display_name": "Python 3 (ipykernel)",
   "language": "python",
   "name": "python3"
  },
  "language_info": {
   "codemirror_mode": {
    "name": "ipython",
    "version": 3
   },
   "file_extension": ".py",
   "mimetype": "text/x-python",
   "name": "python",
   "nbconvert_exporter": "python",
   "pygments_lexer": "ipython3",
   "version": "3.12.4"
  }
 },
 "nbformat": 4,
 "nbformat_minor": 5
}
