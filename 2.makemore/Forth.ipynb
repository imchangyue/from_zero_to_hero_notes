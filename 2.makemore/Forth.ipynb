{
 "cells": [
  {
   "cell_type": "code",
   "execution_count": 1,
   "id": "5c3ea805-d7a5-4478-8fa3-5a654d5c634e",
   "metadata": {},
   "outputs": [],
   "source": [
    "#手写backward"
   ]
  },
  {
   "cell_type": "code",
   "execution_count": 2,
   "id": "68712b9b-443f-4690-bad7-c32e3063cdcc",
   "metadata": {},
   "outputs": [],
   "source": [
    "import torch\n",
    "import torch.nn.functional as F\n",
    "import matplotlib.pyplot as plt\n",
    "%matplotlib inline"
   ]
  },
  {
   "cell_type": "code",
   "execution_count": 3,
   "id": "c8bc39df-e30e-476f-8022-28c4fb771a03",
   "metadata": {},
   "outputs": [
    {
     "data": {
      "text/plain": [
       "['emma', 'olivia', 'ava', 'isabella', 'sophia', 'charlotte', 'mia', 'amelia']"
      ]
     },
     "execution_count": 3,
     "metadata": {},
     "output_type": "execute_result"
    }
   ],
   "source": [
    "#read in all the words\n",
    "words = open('karpathy/makemore/names.txt', 'r').read().splitlines()\n",
    "words[:8]"
   ]
  },
  {
   "cell_type": "code",
   "execution_count": 4,
   "id": "bccc137c-dc84-42eb-ae22-a8a99527efd1",
   "metadata": {},
   "outputs": [
    {
     "name": "stdout",
     "output_type": "stream",
     "text": [
      "27\n"
     ]
    }
   ],
   "source": [
    "#build the vocabulary of hcaracters and mappings\n",
    "chars = sorted(list(set(''.join(words))))\n",
    "stoi = {s:i+1 for i,s in enumerate(chars)}\n",
    "stoi['.'] = 0\n",
    "itos = {s:i for i,s in stoi.items()}\n",
    "vocab_size = len(itos)\n",
    "print(vocab_size)"
   ]
  },
  {
   "cell_type": "code",
   "execution_count": 5,
   "id": "c17d7fd1-55ea-4cae-a25a-063b912774db",
   "metadata": {},
   "outputs": [
    {
     "name": "stdout",
     "output_type": "stream",
     "text": [
      "torch.Size([182625, 3]) torch.Size([182625])\n",
      "torch.Size([22655, 3]) torch.Size([22655])\n",
      "torch.Size([22866, 3]) torch.Size([22866])\n"
     ]
    }
   ],
   "source": [
    "block_size = 3\n",
    "def build_dataset(words):\n",
    "    X,Y = [],[]\n",
    "    \n",
    "    for w in words:\n",
    "        context = [0] * block_size\n",
    "        for ch in w + '.':\n",
    "            ix = stoi[ch]\n",
    "            X.append(context)\n",
    "            Y.append(ix)\n",
    "            context = context[1:] + [ix]  #crop and append\n",
    "    X = torch.tensor(X)\n",
    "    Y = torch.tensor(Y)\n",
    "    print(X.shape, Y.shape)\n",
    "    return X,Y\n",
    "\n",
    "import random\n",
    "random.seed(42)\n",
    "random.shuffle(words)\n",
    "n1 = int(0.8*len(words))\n",
    "n2 = int(0.9*len(words))\n",
    "            \n",
    "Xtr, Ytr = build_dataset(words[:n1])    \n",
    "Xdev, Ydev = build_dataset(words[n1:n2])\n",
    "Xte, Yte = build_dataset(words[n2:])\n"
   ]
  },
  {
   "cell_type": "code",
   "execution_count": 6,
   "id": "1dfab923-f5b0-4b4b-8210-eb59e3d3268c",
   "metadata": {},
   "outputs": [],
   "source": [
    "def cmp(s, dt, t):\n",
    "    ex = torch.all(dt == t.grad).item()\n",
    "    app = torch.allclose(dt, t.grad)\n",
    "    maxdiff = (dt - t.grad).abs().max().item()\n",
    "    print(f'{s:15s} | exact: {str(ex):5s} | approximate: {str(app):5s} | maxdiff: {maxdiff}')"
   ]
  },
  {
   "cell_type": "code",
   "execution_count": 7,
   "id": "1354638f-a692-4349-b271-9e9cf6a23686",
   "metadata": {},
   "outputs": [
    {
     "name": "stdout",
     "output_type": "stream",
     "text": [
      "12297\n"
     ]
    }
   ],
   "source": [
    "#MLP revisited\n",
    "n_embd = 10  #the dimensionality of the character embedding vectors\n",
    "n_hidden = 200  #the number of neurons in the hidden layer of the \n",
    "#需要进行初始化的优化\n",
    "g = torch.Generator().manual_seed(2147483647)\n",
    "C = torch.randn((vocab_size,n_embd),generator = g)\n",
    "W1 = torch.randn((n_embd * block_size,n_hidden),generator = g) * (5/3)/((n_embd * block_size)**0.5)\n",
    "b1 = torch.randn(n_hidden, generator = g) * 0.1  #b1 is just for fun\n",
    "W2 = torch.randn((n_hidden,vocab_size),generator = g) * 0.1  \n",
    "b2 = torch.randn(vocab_size,generator = g) * 0.1  #使得27个字符初始的概率保持，初始化loss能够减小\n",
    "\n",
    "#缩放#BatchNorm parameters\n",
    "bngain = torch.randn((1,n_hidden)) * 0.1 + 1.0\n",
    "bnbias = torch.randn((1,n_hidden)) * 0.1\n",
    "#bnmean_running = torch.zeros((1,n_hidden))\n",
    "#bnstd_running = torch.ones((1,n_hidden))\n",
    "\n",
    "parameters = [C,W1,W2,b2,b1,bngain,bnbias]\n",
    "print(sum(p.nelement() for p in parameters)) #number of parameters in total\n",
    "for p in parameters:\n",
    "    p.requires_grad = True"
   ]
  },
  {
   "cell_type": "code",
   "execution_count": 8,
   "id": "b8d3eaf6-cc81-4f26-be19-f6543bb43df0",
   "metadata": {},
   "outputs": [
    {
     "ename": "NameError",
     "evalue": "name 'batch_size' is not defined",
     "output_type": "error",
     "traceback": [
      "\u001b[1;31m---------------------------------------------------------------------------\u001b[0m",
      "\u001b[1;31mNameError\u001b[0m                                 Traceback (most recent call last)",
      "Cell \u001b[1;32mIn[8], line 2\u001b[0m\n\u001b[0;32m      1\u001b[0m \u001b[38;5;66;03m## batch_size = 32\u001b[39;00m\n\u001b[1;32m----> 2\u001b[0m n \u001b[38;5;241m=\u001b[39m \u001b[43mbatch_size\u001b[49m  \u001b[38;5;66;03m#a shorter variable for convenience\u001b[39;00m\n\u001b[0;32m      3\u001b[0m \u001b[38;5;66;03m#construct a minibatch\u001b[39;00m\n\u001b[0;32m      4\u001b[0m ix \u001b[38;5;241m=\u001b[39m torch\u001b[38;5;241m.\u001b[39mrandint(\u001b[38;5;241m0\u001b[39m, Xtr\u001b[38;5;241m.\u001b[39mshape[\u001b[38;5;241m0\u001b[39m],(batch_size,),  generator \u001b[38;5;241m=\u001b[39m g)\n",
      "\u001b[1;31mNameError\u001b[0m: name 'batch_size' is not defined"
     ]
    }
   ],
   "source": [
    "## batch_size = 32\n",
    "n = batch_size  #a shorter variable for convenience\n",
    "#construct a minibatch\n",
    "ix = torch.randint(0, Xtr.shape[0],(batch_size,),  generator = g)\n",
    "Xb, Yb = Xtr[ix], Ytr[ix]  #batch x,y"
   ]
  },
  {
   "cell_type": "code",
   "execution_count": null,
   "id": "eb2ab5e9-9336-40a1-985d-4da992c703ba",
   "metadata": {},
   "outputs": [],
   "source": [
    "# forward pass,'chunkated' into smaller steps that are posssible to backward one at a time\n",
    "\n",
    "emb = C[Xb]   #embed the characters into vectors\n",
    "embcat = emb.view(emb.shape[0],-1)  #concatenate the vectors\n",
    "\n",
    "#Linear layer 1\n",
    "hprebn = embcat @ W1 + b1\n",
    "#batchnorm layer\n",
    "bnmeani = 1/n*hprebn.sum(0,keepdim = True)\n",
    "bndiff = hprebn - bnmeani\n",
    "bndiff2 = bndiff**2\n",
    "bnvar = 1 / (n-1)*bndiff2.sum(0, keepdim=True)  #这里用n-1而不是n更好，来自bessel's correction(unbias version)\n",
    "bnvar_inv = (bnvar + 1e-5)**-0.5\n",
    "bnraw = bndiff * bnvar_inv\n",
    "hpreact = bngain * bnraw + bnbias\n",
    "#Non-linearity\n",
    "h = torch.tanh(hpreact)  #hidden layer\n",
    "#linear layer2\n",
    "logits = h @ W2 + b2  #output layer\n",
    "#cross entropy loss (same as F.cross_entropy)  计算交叉熵\n",
    "logit_maxes = logits.max(1, keepdim=True).values\n",
    "norm_logits = logits - logit_maxes #subtract max for numerical stability\n",
    "#其实可以直接跳过与logits_maxes相关的部分，因为它的值是极小的，但是留着是为了数值稳定性\n",
    "counts = norm_logits.exp()\n",
    "counts_sum = counts.sum(1, keepdims = True)\n",
    "counts_sum_inv = counts_sum **-1\n",
    "probs = counts * counts_sum_inv\n",
    "logprobs = probs.log()\n",
    "loss = -logprobs[range(n),Yb].mean()\n",
    "'''\n",
    "range(n): 这是一个生成从0到n-1的整数序列，通常用于选择每个样本的索引。\n",
    "Yb: 这是一个包含真实标签的数组，表示每个样本的实际类别。\n",
    "'''\n",
    "#pytorch backward pass\n",
    "for p in parameters:\n",
    "    p.grad = None\n",
    "for t in [logprobs,probs,counts,counts_sum,counts_sum_inv,\n",
    "         norm_logits,logit_maxes, logits, h, hpreact,bnraw,\n",
    "         bnvar_inv,bnvar,bndiff2, bndiff, hprebn, bnmeani,\n",
    "         embcat, emb]:\n",
    "    t.retain_grad()\n",
    "loss.backward()\n",
    "loss"
   ]
  },
  {
   "cell_type": "code",
   "execution_count": null,
   "id": "1bb9f4b8-660d-440f-b844-c57111965055",
   "metadata": {},
   "outputs": [],
   "source": [
    "Yb  "
   ]
  },
  {
   "cell_type": "code",
   "execution_count": null,
   "id": "d6386b44-ed3c-4664-81de-6eb9969a7a7d",
   "metadata": {},
   "outputs": [],
   "source": [
    "logprobs.shape"
   ]
  },
  {
   "cell_type": "markdown",
   "id": "75bc5200-f0c5-4a01-ba83-94c54004293d",
   "metadata": {},
   "source": [
    "Exercise1 : backward through the whole thing manually\n",
    "backpropogating through exactly all of the variables\n",
    "as thay are defined in the forward pass above,one by one"
   ]
  },
  {
   "cell_type": "code",
   "execution_count": null,
   "id": "f2b06623-25a9-4a13-8c7e-7d45c6a67ad2",
   "metadata": {},
   "outputs": [],
   "source": [
    "dlogprobs = [range(n),Yb]\n",
    "#根据本来的logprobs.shape形状为[32,27],发现dlogprobs的规格应该也是[32,27]"
   ]
  },
  {
   "cell_type": "code",
   "execution_count": null,
   "id": "1bc9d0d2-1748-4ef0-a63b-38f726f000a0",
   "metadata": {},
   "outputs": [],
   "source": [
    "#计算dcounts_sum_inv\n",
    "counts.shape,counts_sum_inv.shape\n",
    "#c = a*b ,but with tensors\n",
    "#a[3][3] * b[3][1]\n",
    "#a11*b1 a12*b1 a13*b1\n",
    "#a21*b2 a22*b2 a23*b3\n",
    "#a31*b3 a32*b3 a33*b3\n",
    "#c[3][3]"
   ]
  },
  {
   "cell_type": "markdown",
   "id": "49eaef20-dcd6-438f-9581-fe21553f9628",
   "metadata": {},
   "source": [
    "计算counts_sum\n",
    "a11 a12 a13 -->b1 = a11+a21+a31\n",
    "a21 a22 a32 -->b2 = a12+a22+a32\n",
    "a31 a32 a33 -->b3 = a13+a23+a33"
   ]
  },
  {
   "cell_type": "code",
   "execution_count": null,
   "id": "96feee6b-34a1-4e90-a9d9-d7c20bf7b216",
   "metadata": {},
   "outputs": [],
   "source": [
    "#计算dnorm(broadcasting法则相减)\n",
    "norm_logits.shape,logits.shape,logit_maxes.shape"
   ]
  },
  {
   "cell_type": "code",
   "execution_count": null,
   "id": "923fa7cc-5197-45f5-9e0f-a7b021fb9275",
   "metadata": {
    "scrolled": true
   },
   "outputs": [],
   "source": [
    "#通过logit_maxes = logits.max(1, keepdim=True).values计算dlogits的第二部分\n",
    "logits.max(1, keepdim=True).values\n",
    "#可以使用onehot取出每个最大值并计算"
   ]
  },
  {
   "cell_type": "code",
   "execution_count": null,
   "id": "e0fca134-3eb7-440d-a607-c44acbb71ac5",
   "metadata": {},
   "outputs": [],
   "source": [
    "#计算h,W2,b2\n",
    "#logits = h @ W2 + b2 \n",
    "logits.shape,h.shape,W2.shape,b2.shape\n",
    "#矩阵计算的导数可以通过小例子去理解"
   ]
  },
  {
   "attachments": {
    "c49caf08-4194-46cc-b335-fab669625b55.png": {
     "image/png": "[encoded data removed]"
    }
   },
   "cell_type": "markdown",
   "id": "1dda3cb4-9103-46d1-b488-209eaef1fd77",
   "metadata": {},
   "source": [
    "![image.png](attachment:c49caf08-4194-46cc-b335-fab669625b55.png)"
   ]
  },
  {
   "cell_type": "code",
   "execution_count": null,
   "id": "77b9195c-6993-4dfc-a2dd-7c794c5314a5",
   "metadata": {},
   "outputs": [],
   "source": [
    "hpreact.shape, bngain.shape, bnraw.shape,bnbias.shape"
   ]
  },
  {
   "cell_type": "code",
   "execution_count": null,
   "id": "2ecd67e3-fa41-4a63-aa4b-3e68fdce0a87",
   "metadata": {},
   "outputs": [],
   "source": [
    "bnraw.shape,bndiff.shape, bnvar_inv.shape"
   ]
  },
  {
   "cell_type": "code",
   "execution_count": null,
   "id": "065a3a35-f3b5-447a-9e00-7250b859b8a8",
   "metadata": {},
   "outputs": [],
   "source": [
    "#bnvar = 1 / (n-1)*bndiff2.sum(0, keepdim=True)\n",
    "#a11 a12\n",
    "#a12 a22\n",
    "#--->\n",
    "#b1,b2,where:\n",
    "#b1 = 1/(n-1) * (a11 +a21)\n",
    "#b2 = 1/(n-1) * (a12 +a22)"
   ]
  },
  {
   "cell_type": "code",
   "execution_count": null,
   "id": "3ca4bd3c-7032-496d-b025-ec6b73259222",
   "metadata": {},
   "outputs": [],
   "source": [
    "#bndiff = hprebn - bnmeani\n",
    "bndiff.shape,hprebn.shape,bnmeani.shape"
   ]
  },
  {
   "cell_type": "code",
   "execution_count": null,
   "id": "76b78f70-a8a5-4224-abc6-6bd3dd13e18a",
   "metadata": {},
   "outputs": [],
   "source": [
    "#forward pass hprebn = embcat @ W1 + b1\n",
    "hprebn.shape,embcat.shape,W1.shape , b1.shape"
   ]
  },
  {
   "cell_type": "code",
   "execution_count": null,
   "id": "42dd8d60-b25a-4e5d-a2d7-abb99c10c563",
   "metadata": {},
   "outputs": [],
   "source": [
    "#embcat = emb.view(emb.shape[0],-1) \n",
    "embcat.shape, emb.shape"
   ]
  },
  {
   "cell_type": "code",
   "execution_count": null,
   "id": "89dc9c53-69d7-41cb-9ebc-58e93fad468e",
   "metadata": {},
   "outputs": [],
   "source": [
    "#emb = C[Xb] \n",
    "emb.shape,C.shape,Xb.shape\n",
    "#just to undo the indexing"
   ]
  },
  {
   "cell_type": "code",
   "execution_count": null,
   "id": "616a2854-77f2-4d1f-b06b-4c1d1a4fd2f3",
   "metadata": {},
   "outputs": [],
   "source": [
    "#Exercise one:\n",
    "#backward through the whole thing manually\n",
    "#loss = -1/2a - 1/2b\n",
    "#dloss/da = -1/2\n",
    "dlogprobs = torch.zeros_like(logprobs)  #初始化与logprobs相同的张量形状\n",
    "dlogprobs[range(n),Yb] = -1.0/n\n",
    "dprobs = (1.0/probs) * dlogprobs\n",
    "#dcounts_sum_inv = counts * dprobs  这是错的\n",
    "#因为probs = counts * counts_sum_inv计算时隐含broadcasting\n",
    "dcounts_sum_inv = (counts * dprobs).sum(1,keepdim=True)\n",
    "dcounts = counts_sum_inv * dprobs  #计算dcounts的第一部分\n",
    "dcounts_sum = (-counts_sum**-2)*dcounts_sum_inv\n",
    "dcounts += torch.ones_like(counts) *dcounts_sum  #计算dcounts的第二部分\n",
    "dnorm_logits = counts * dcounts\n",
    "dlogits = dnorm_logits.clone()  #计算dlogits的第一部分\n",
    "dlogit_maxes = (-dnorm_logits).sum(1,keepdim=True)\n",
    "dlogits +=F.one_hot(logits.max(1).indices,num_classes=logits.shape[1]) * dlogit_maxes\n",
    "dh  = dlogits @ W2.T\n",
    "dW2 = h.T @ dlogits\n",
    "db2 = dlogits.sum(0)\n",
    "dhpreact = (1.0 - h**2) *dh\n",
    "dbngain = (bnraw * dhpreact).sum(0,keepdim = True)\n",
    "dbnraw = (bngain * dhpreact)\n",
    "dbnbias = dhpreact.sum(0,keepdim = True)\n",
    "dbndiff = bnvar_inv * dbnraw  #计算dbndiff的第一部分\n",
    "dbnvar_inv = (bndiff * dbnraw).sum(0,keepdim=True)\n",
    "dbnvar =( -0.5*(bnvar + 1e-5)**-1.5)*dbnvar_inv\n",
    "dbndiff2 = (1.0/(n-1)) * torch.ones_like(bndiff2) * dbnvar\n",
    "dbndiff += (2 * bndiff)* dbndiff2 \n",
    "dhprebn = dbndiff.clone()\n",
    "dbnmeani = (-torch.ones_like(bndiff)* dbndiff).sum(0)\n",
    "dhprebn += 1.0/n *torch.ones_like(hprebn) * dbnmeani\n",
    "dembcat = dhprebn @ W1.T\n",
    "dW1 = embcat.T @ dhprebn\n",
    "db1 = dhprebn.sum(0)\n",
    "demb = dembcat.view(emb.shape)\n",
    "dC = torch.zeros_like(C)\n",
    "for k in range(Xb.shape[0]):\n",
    "    for j in range(Xb.shape[1]):\n",
    "        ix = Xb[k,j]\n",
    "        dC[ix] += demb[k,j]\n",
    "        \n",
    "cmp('logprobs',dlogprobs, logprobs)\n",
    "cmp('probs',dprobs, probs)\n",
    "cmp('counts_sum_inv',dcounts_sum_inv,counts_sum_inv)\n",
    "cmp('counts',dcounts, counts)\n",
    "cmp('counts_sum',dcounts_sum, counts_sum)\n",
    "cmp('norm_logits',dnorm_logits, norm_logits)\n",
    "cmp('logits',dlogits, logits)\n",
    "cmp('logit_maxes',dlogit_maxes, logit_maxes)\n",
    "cmp('counts_sum',dcounts_sum, counts_sum)\n",
    "cmp('h',dh, h)\n",
    "cmp('W2',dW2,W2)\n",
    "cmp('b2',db2,b2)\n",
    "cmp('hpreact',dhpreact, hpreact)\n",
    "cmp('bngain',dbngain, bngain)\n",
    "cmp('bnraw',dbnraw, bnraw)\n",
    "cmp('bndiff',dbndiff, bndiff)\n",
    "cmp('bnvar_inv',dbnvar_inv, bnvar_inv)\n",
    "cmp('bnvar',dbnvar, bnvar)\n",
    "cmp('bndiff2',dbndiff2,bndiff2)\n",
    "cmp('bnmeani',dbnmeani,bnmeani)\n",
    "cmp('bndiff2',dbndiff2,bndiff2)\n",
    "cmp('hprebn',dhprebn,hprebn)\n",
    "cmp('embcat',dembcat,embcat)\n",
    "cmp('W1',dW1,W1)\n",
    "cmp('b1',db1,b1)\n",
    "cmp('emb',demb,emb)\n",
    "cmp('C',dC,C)"
   ]
  },
  {
   "cell_type": "code",
   "execution_count": null,
   "id": "6e9fd4f2-5ae4-4529-88f7-2fd9e8df6b38",
   "metadata": {
    "jp-MarkdownHeadingCollapsed": true
   },
   "outputs": [],
   "source": [
    "# exercise two: back prop through cross_entropy but all in one go\n",
    "\n",
    "#合并forward pass:\n",
    "loss_fast = F.cross_entropy(logits, Yb)\n",
    "print(loss_fast.item(),'diff:',(loss_fast-loss).item())"
   ]
  },
  {
   "cell_type": "code",
   "execution_count": null,
   "id": "91c07d87-8959-4123-a3b8-b0e5c63d5c89",
   "metadata": {},
   "outputs": [],
   "source": [
    "dlogits = F.softmax(logits,1)\n",
    "dlogits[range(n),Yb] -=1\n",
    "dlogits/=n\n",
    "\n",
    "cmp('logits',dlogits,logits)"
   ]
  },
  {
   "cell_type": "code",
   "execution_count": null,
   "id": "ef8b403a-e11c-41a5-b095-e4edb9bb2994",
   "metadata": {},
   "outputs": [],
   "source": [
    "F.softmax(logits,1)[0]"
   ]
  },
  {
   "cell_type": "code",
   "execution_count": null,
   "id": "0c9d5e0a-0596-4730-bdf8-87ed143f6f81",
   "metadata": {},
   "outputs": [],
   "source": [
    "dlogits[0]*n"
   ]
  },
  {
   "cell_type": "code",
   "execution_count": null,
   "id": "e606c236-67f0-4eee-8d83-bfd610420574",
   "metadata": {},
   "outputs": [],
   "source": [
    "dlogits[0].sum()"
   ]
  },
  {
   "cell_type": "code",
   "execution_count": null,
   "id": "43f8a426-967f-40b1-8854-c925c6197e4e",
   "metadata": {},
   "outputs": [],
   "source": [
    "plt.figure(figsize = (8,8))\n",
    "plt.imshow(dlogits.detach(),cmap = 'grey')\n",
    "#黑色的代表correct answer"
   ]
  },
  {
   "cell_type": "markdown",
   "id": "35e33740-4123-4e3c-af07-22b2a7a60ed8",
   "metadata": {},
   "source": [
    "logits:the probabilities that the properties Matrix in the forward pass"
   ]
  },
  {
   "cell_type": "code",
   "execution_count": null,
   "id": "ba94997b-a70b-4b02-8579-c9e6719ea9c6",
   "metadata": {},
   "outputs": [],
   "source": [
    "#exercise three:\n",
    "#back prop through batch norm but all in one go\n",
    "#calculate dhprebn given dhpreact\n",
    "dhprebn = bngain* bnvar_inv/n * (n*dhpreact - dhpreact.sum(0)-n(n-1)*bnraw*(dhpreact*bnraw).sum(0))\n",
    "cmp('hprebn',dhprebn,hprebn)"
   ]
  },
  {
   "cell_type": "code",
   "execution_count": null,
   "id": "fcadaf82-f08f-455a-ab92-d4cf318ef9ad",
   "metadata": {},
   "outputs": [],
   "source": [
    "#Putting it all together\n",
    "#train the MLP neural net with your own backward pass\n",
    "\n",
    "#init\n",
    "n_embd = 10\n",
    "n_hidden = 200\n",
    "\n",
    "g = torch.Generator().manual_seed(1337)\n",
    "C = torch.randn((vocab_size,n_embd),generator = g)\n",
    "#Layer 1\n",
    "W1 = torch.randn((n_embd*block_size,n_hidden),generator = g)*(5/3)/((n_embd * block_size)**0.5)\n",
    "b1 = torch.randn(n_hidden,generator = g) * 0.1\n",
    "#Layer 2\n",
    "W2 = torch.randn((n_hidden,vocab_size),generator = g) * 0.1\n",
    "b2 = torch.randn(vocab_size, generator = g) * 0.1\n",
    "\n",
    "\n"
   ]
  }
 ],
 "metadata": {
  "kernelspec": {
   "display_name": "Python 3 (ipykernel)",
   "language": "python",
   "name": "python3"
  },
  "language_info": {
   "codemirror_mode": {
    "name": "ipython",
    "version": 3
   },
   "file_extension": ".py",
   "mimetype": "text/x-python",
   "name": "python",
   "nbconvert_exporter": "python",
   "pygments_lexer": "ipython3",
   "version": "3.12.4"
  }
 },
 "nbformat": 4,
 "nbformat_minor": 5
}
